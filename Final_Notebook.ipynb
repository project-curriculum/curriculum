{
 "cells": [
  {
   "cell_type": "markdown",
   "metadata": {},
   "source": [
    "# Anomaly detection"
   ]
  },
  {
   "cell_type": "markdown",
   "metadata": {},
   "source": [
    "In this project we set out to answer some questions regarding the access logs of the CodeUp curriculum"
   ]
  },
  {
   "cell_type": "markdown",
   "metadata": {},
   "source": [
    "## Imports"
   ]
  },
  {
   "cell_type": "markdown",
   "metadata": {},
   "source": [
    "These are the necessary imports for the project "
   ]
  },
  {
   "cell_type": "code",
   "execution_count": 1,
   "metadata": {},
   "outputs": [],
   "source": [
    "# Append path to import .py file outside directory\n",
    "import sys\n",
    "# sys.path.append('/Users/nickolaspedrimiranda/CodeUp/curriculum')"
   ]
  },
  {
   "cell_type": "code",
   "execution_count": 2,
   "metadata": {},
   "outputs": [],
   "source": [
    "# DS imports\n",
    "import pandas as pd\n",
    "import numpy as np\n",
    "\n",
    "# Visual imports\n",
    "import seaborn as sns\n",
    "import matplotlib.pyplot as plt\n",
    "\n",
    "import os\n",
    "# Set the working directory to the directory containing your notebook\n",
    "# os.chdir('/Users/jongarcia/codeup-data-science/curriculum')\n",
    "\n",
    "import johns_visual as vis\n",
    "import johns_explore as exp\n",
    "import john_wrangle as w"
   ]
  },
  {
   "cell_type": "markdown",
   "metadata": {},
   "source": [
    "## Acquire"
   ]
  },
  {
   "cell_type": "markdown",
   "metadata": {},
   "source": [
    "To acquire we simply read in the data from a .csv file"
   ]
  },
  {
   "cell_type": "code",
   "execution_count": 3,
   "metadata": {},
   "outputs": [],
   "source": [
    "# Read .csv from main directory\n",
    "df = pd.read_csv('anonymized-curriculum-access.txt', sep=' ')\n",
    "\n",
    "cohort = pd.read_csv('cohorts.csv')"
   ]
  },
  {
   "cell_type": "markdown",
   "metadata": {},
   "source": [
    "## Prepare"
   ]
  },
  {
   "cell_type": "markdown",
   "metadata": {},
   "source": [
    "Data preparation will simply be dropping a few columns and renaming them and filling a few nulls"
   ]
  },
  {
   "cell_type": "code",
   "execution_count": 4,
   "metadata": {},
   "outputs": [
    {
     "data": {
      "text/html": [
       "<div>\n",
       "<style scoped>\n",
       "    .dataframe tbody tr th:only-of-type {\n",
       "        vertical-align: middle;\n",
       "    }\n",
       "\n",
       "    .dataframe tbody tr th {\n",
       "        vertical-align: top;\n",
       "    }\n",
       "\n",
       "    .dataframe thead th {\n",
       "        text-align: right;\n",
       "    }\n",
       "</style>\n",
       "<table border=\"1\" class=\"dataframe\">\n",
       "  <thead>\n",
       "    <tr style=\"text-align: right;\">\n",
       "      <th></th>\n",
       "      <th>date</th>\n",
       "      <th>path</th>\n",
       "      <th>user_id</th>\n",
       "      <th>cohort_id</th>\n",
       "      <th>ip</th>\n",
       "      <th>name</th>\n",
       "      <th>slack</th>\n",
       "      <th>start_date</th>\n",
       "      <th>end_date</th>\n",
       "      <th>program_id</th>\n",
       "    </tr>\n",
       "  </thead>\n",
       "  <tbody>\n",
       "    <tr>\n",
       "      <th>0</th>\n",
       "      <td>2018-01-26 09:56:02</td>\n",
       "      <td>java-ii</td>\n",
       "      <td>1</td>\n",
       "      <td>8.0</td>\n",
       "      <td>97.105.19.61</td>\n",
       "      <td>Hampton</td>\n",
       "      <td>#hampton</td>\n",
       "      <td>2015-09-22</td>\n",
       "      <td>2016-02-06</td>\n",
       "      <td>1.0</td>\n",
       "    </tr>\n",
       "    <tr>\n",
       "      <th>1</th>\n",
       "      <td>2018-01-26 09:56:05</td>\n",
       "      <td>java-ii/object-oriented-programming</td>\n",
       "      <td>1</td>\n",
       "      <td>8.0</td>\n",
       "      <td>97.105.19.61</td>\n",
       "      <td>Hampton</td>\n",
       "      <td>#hampton</td>\n",
       "      <td>2015-09-22</td>\n",
       "      <td>2016-02-06</td>\n",
       "      <td>1.0</td>\n",
       "    </tr>\n",
       "    <tr>\n",
       "      <th>2</th>\n",
       "      <td>2018-01-26 09:56:06</td>\n",
       "      <td>slides/object_oriented_programming</td>\n",
       "      <td>1</td>\n",
       "      <td>8.0</td>\n",
       "      <td>97.105.19.61</td>\n",
       "      <td>Hampton</td>\n",
       "      <td>#hampton</td>\n",
       "      <td>2015-09-22</td>\n",
       "      <td>2016-02-06</td>\n",
       "      <td>1.0</td>\n",
       "    </tr>\n",
       "  </tbody>\n",
       "</table>\n",
       "</div>"
      ],
      "text/plain": [
       "                 date                                 path  user_id  \\\n",
       "0 2018-01-26 09:56:02                              java-ii        1   \n",
       "1 2018-01-26 09:56:05  java-ii/object-oriented-programming        1   \n",
       "2 2018-01-26 09:56:06   slides/object_oriented_programming        1   \n",
       "\n",
       "   cohort_id            ip     name     slack start_date   end_date  \\\n",
       "0        8.0  97.105.19.61  Hampton  #hampton 2015-09-22 2016-02-06   \n",
       "1        8.0  97.105.19.61  Hampton  #hampton 2015-09-22 2016-02-06   \n",
       "2        8.0  97.105.19.61  Hampton  #hampton 2015-09-22 2016-02-06   \n",
       "\n",
       "   program_id  \n",
       "0         1.0  \n",
       "1         1.0  \n",
       "2         1.0  "
      ]
     },
     "execution_count": 4,
     "metadata": {},
     "output_type": "execute_result"
    }
   ],
   "source": [
    "# Rename columns\n",
    "names = {'2018-01-26':'date', '09:55:03':'time', '/':'path', '1':'user_id', '8':'cohort_id', '97.105.19.61':'ip'}\n",
    "\n",
    "df = df.rename(columns=names)\n",
    "\n",
    "# Merge tables\n",
    "df = df.merge(cohort, how='left', left_on='cohort_id', right_on='id')\n",
    "\n",
    "# Drop path nulls\n",
    "df= df[df.path.notna()]\n",
    "\n",
    "# Convert to datetime\n",
    "df['date'] = df.date + ' ' + df.time\n",
    "df.date = pd.to_datetime(df.date)\n",
    "df.start_date = pd.to_datetime(df.start_date)\n",
    "df.end_date = pd.to_datetime(df.end_date)\n",
    "\n",
    "# Drop useless data\n",
    "df = df.drop(columns=['deleted_at', 'time','id', 'created_at', 'updated_at'])\n",
    "\n",
    "df.head(3)"
   ]
  },
  {
   "cell_type": "code",
   "execution_count": 5,
   "metadata": {},
   "outputs": [
    {
     "data": {
      "text/plain": [
       "date              0\n",
       "path              0\n",
       "user_id           0\n",
       "cohort_id     52893\n",
       "ip                0\n",
       "name          52893\n",
       "slack         52893\n",
       "start_date    52893\n",
       "end_date      52893\n",
       "program_id    52893\n",
       "dtype: int64"
      ]
     },
     "execution_count": 5,
     "metadata": {},
     "output_type": "execute_result"
    }
   ],
   "source": [
    "df.isna().sum()  # Check for nulls"
   ]
  },
  {
   "cell_type": "code",
   "execution_count": 6,
   "metadata": {},
   "outputs": [],
   "source": [
    "# Create separate df without nulls\n",
    "df1 = df[df.cohort_id.notnull()]\n",
    "\n",
    "df1 = df1.dropna()\n",
    "\n",
    "df1.cohort_id = df1.cohort_id.astype(int)\n",
    "df1.program_id = df1.program_id.astype(int)"
   ]
  },
  {
   "cell_type": "code",
   "execution_count": 7,
   "metadata": {},
   "outputs": [
    {
     "data": {
      "text/html": [
       "<div>\n",
       "<style scoped>\n",
       "    .dataframe tbody tr th:only-of-type {\n",
       "        vertical-align: middle;\n",
       "    }\n",
       "\n",
       "    .dataframe tbody tr th {\n",
       "        vertical-align: top;\n",
       "    }\n",
       "\n",
       "    .dataframe thead th {\n",
       "        text-align: right;\n",
       "    }\n",
       "</style>\n",
       "<table border=\"1\" class=\"dataframe\">\n",
       "  <thead>\n",
       "    <tr style=\"text-align: right;\">\n",
       "      <th></th>\n",
       "      <th>date</th>\n",
       "      <th>path</th>\n",
       "      <th>user_id</th>\n",
       "      <th>cohort_id</th>\n",
       "      <th>ip</th>\n",
       "      <th>name</th>\n",
       "      <th>slack</th>\n",
       "      <th>start_date</th>\n",
       "      <th>end_date</th>\n",
       "      <th>program_id</th>\n",
       "    </tr>\n",
       "  </thead>\n",
       "  <tbody>\n",
       "    <tr>\n",
       "      <th>0</th>\n",
       "      <td>2018-01-26 09:56:02</td>\n",
       "      <td>java-ii</td>\n",
       "      <td>1</td>\n",
       "      <td>8</td>\n",
       "      <td>97.105.19.61</td>\n",
       "      <td>Hampton</td>\n",
       "      <td>#hampton</td>\n",
       "      <td>2015-09-22</td>\n",
       "      <td>2016-02-06</td>\n",
       "      <td>1</td>\n",
       "    </tr>\n",
       "    <tr>\n",
       "      <th>1</th>\n",
       "      <td>2018-01-26 09:56:05</td>\n",
       "      <td>java-ii/object-oriented-programming</td>\n",
       "      <td>1</td>\n",
       "      <td>8</td>\n",
       "      <td>97.105.19.61</td>\n",
       "      <td>Hampton</td>\n",
       "      <td>#hampton</td>\n",
       "      <td>2015-09-22</td>\n",
       "      <td>2016-02-06</td>\n",
       "      <td>1</td>\n",
       "    </tr>\n",
       "    <tr>\n",
       "      <th>2</th>\n",
       "      <td>2018-01-26 09:56:06</td>\n",
       "      <td>slides/object_oriented_programming</td>\n",
       "      <td>1</td>\n",
       "      <td>8</td>\n",
       "      <td>97.105.19.61</td>\n",
       "      <td>Hampton</td>\n",
       "      <td>#hampton</td>\n",
       "      <td>2015-09-22</td>\n",
       "      <td>2016-02-06</td>\n",
       "      <td>1</td>\n",
       "    </tr>\n",
       "  </tbody>\n",
       "</table>\n",
       "</div>"
      ],
      "text/plain": [
       "                 date                                 path  user_id  \\\n",
       "0 2018-01-26 09:56:02                              java-ii        1   \n",
       "1 2018-01-26 09:56:05  java-ii/object-oriented-programming        1   \n",
       "2 2018-01-26 09:56:06   slides/object_oriented_programming        1   \n",
       "\n",
       "   cohort_id            ip     name     slack start_date   end_date  \\\n",
       "0          8  97.105.19.61  Hampton  #hampton 2015-09-22 2016-02-06   \n",
       "1          8  97.105.19.61  Hampton  #hampton 2015-09-22 2016-02-06   \n",
       "2          8  97.105.19.61  Hampton  #hampton 2015-09-22 2016-02-06   \n",
       "\n",
       "   program_id  \n",
       "0           1  \n",
       "1           1  \n",
       "2           1  "
      ]
     },
     "execution_count": 7,
     "metadata": {},
     "output_type": "execute_result"
    }
   ],
   "source": [
    "df1.head(3)"
   ]
  },
  {
   "cell_type": "code",
   "execution_count": 8,
   "metadata": {},
   "outputs": [],
   "source": [
    "# Create column that specifies if page was accessed when student was still in the cohort or not\n",
    "activity = []\n",
    "for (s,c,e) in zip(df1.start_date, df1.date, df1.end_date):\n",
    "    if s <= c <= e:\n",
    "        activity.append('Active')\n",
    "    else:\n",
    "        activity.append('Inactive')"
   ]
  },
  {
   "cell_type": "code",
   "execution_count": 9,
   "metadata": {},
   "outputs": [],
   "source": [
    "df1['activity']= activity"
   ]
  },
  {
   "cell_type": "code",
   "execution_count": 10,
   "metadata": {},
   "outputs": [
    {
     "data": {
      "text/html": [
       "<div>\n",
       "<style scoped>\n",
       "    .dataframe tbody tr th:only-of-type {\n",
       "        vertical-align: middle;\n",
       "    }\n",
       "\n",
       "    .dataframe tbody tr th {\n",
       "        vertical-align: top;\n",
       "    }\n",
       "\n",
       "    .dataframe thead th {\n",
       "        text-align: right;\n",
       "    }\n",
       "</style>\n",
       "<table border=\"1\" class=\"dataframe\">\n",
       "  <thead>\n",
       "    <tr style=\"text-align: right;\">\n",
       "      <th></th>\n",
       "      <th>date</th>\n",
       "      <th>path</th>\n",
       "      <th>user_id</th>\n",
       "      <th>cohort_id</th>\n",
       "      <th>ip</th>\n",
       "      <th>name</th>\n",
       "      <th>slack</th>\n",
       "      <th>start_date</th>\n",
       "      <th>end_date</th>\n",
       "      <th>program_id</th>\n",
       "      <th>activity</th>\n",
       "    </tr>\n",
       "  </thead>\n",
       "  <tbody>\n",
       "    <tr>\n",
       "      <th>0</th>\n",
       "      <td>2018-01-26 09:56:02</td>\n",
       "      <td>java-ii</td>\n",
       "      <td>1</td>\n",
       "      <td>8</td>\n",
       "      <td>97.105.19.61</td>\n",
       "      <td>Hampton</td>\n",
       "      <td>#hampton</td>\n",
       "      <td>2015-09-22</td>\n",
       "      <td>2016-02-06</td>\n",
       "      <td>1</td>\n",
       "      <td>Inactive</td>\n",
       "    </tr>\n",
       "    <tr>\n",
       "      <th>1</th>\n",
       "      <td>2018-01-26 09:56:05</td>\n",
       "      <td>java-ii/object-oriented-programming</td>\n",
       "      <td>1</td>\n",
       "      <td>8</td>\n",
       "      <td>97.105.19.61</td>\n",
       "      <td>Hampton</td>\n",
       "      <td>#hampton</td>\n",
       "      <td>2015-09-22</td>\n",
       "      <td>2016-02-06</td>\n",
       "      <td>1</td>\n",
       "      <td>Inactive</td>\n",
       "    </tr>\n",
       "    <tr>\n",
       "      <th>2</th>\n",
       "      <td>2018-01-26 09:56:06</td>\n",
       "      <td>slides/object_oriented_programming</td>\n",
       "      <td>1</td>\n",
       "      <td>8</td>\n",
       "      <td>97.105.19.61</td>\n",
       "      <td>Hampton</td>\n",
       "      <td>#hampton</td>\n",
       "      <td>2015-09-22</td>\n",
       "      <td>2016-02-06</td>\n",
       "      <td>1</td>\n",
       "      <td>Inactive</td>\n",
       "    </tr>\n",
       "    <tr>\n",
       "      <th>3</th>\n",
       "      <td>2018-01-26 09:56:24</td>\n",
       "      <td>javascript-i/conditionals</td>\n",
       "      <td>2</td>\n",
       "      <td>22</td>\n",
       "      <td>97.105.19.61</td>\n",
       "      <td>Teddy</td>\n",
       "      <td>#teddy</td>\n",
       "      <td>2018-01-08</td>\n",
       "      <td>2018-05-17</td>\n",
       "      <td>2</td>\n",
       "      <td>Active</td>\n",
       "    </tr>\n",
       "    <tr>\n",
       "      <th>4</th>\n",
       "      <td>2018-01-26 09:56:41</td>\n",
       "      <td>javascript-i/loops</td>\n",
       "      <td>2</td>\n",
       "      <td>22</td>\n",
       "      <td>97.105.19.61</td>\n",
       "      <td>Teddy</td>\n",
       "      <td>#teddy</td>\n",
       "      <td>2018-01-08</td>\n",
       "      <td>2018-05-17</td>\n",
       "      <td>2</td>\n",
       "      <td>Active</td>\n",
       "    </tr>\n",
       "  </tbody>\n",
       "</table>\n",
       "</div>"
      ],
      "text/plain": [
       "                 date                                 path  user_id  \\\n",
       "0 2018-01-26 09:56:02                              java-ii        1   \n",
       "1 2018-01-26 09:56:05  java-ii/object-oriented-programming        1   \n",
       "2 2018-01-26 09:56:06   slides/object_oriented_programming        1   \n",
       "3 2018-01-26 09:56:24            javascript-i/conditionals        2   \n",
       "4 2018-01-26 09:56:41                   javascript-i/loops        2   \n",
       "\n",
       "   cohort_id            ip     name     slack start_date   end_date  \\\n",
       "0          8  97.105.19.61  Hampton  #hampton 2015-09-22 2016-02-06   \n",
       "1          8  97.105.19.61  Hampton  #hampton 2015-09-22 2016-02-06   \n",
       "2          8  97.105.19.61  Hampton  #hampton 2015-09-22 2016-02-06   \n",
       "3         22  97.105.19.61    Teddy    #teddy 2018-01-08 2018-05-17   \n",
       "4         22  97.105.19.61    Teddy    #teddy 2018-01-08 2018-05-17   \n",
       "\n",
       "   program_id  activity  \n",
       "0           1  Inactive  \n",
       "1           1  Inactive  \n",
       "2           1  Inactive  \n",
       "3           2    Active  \n",
       "4           2    Active  "
      ]
     },
     "execution_count": 10,
     "metadata": {},
     "output_type": "execute_result"
    }
   ],
   "source": [
    "df1.head()"
   ]
  },
  {
   "cell_type": "markdown",
   "metadata": {},
   "source": [
    "## Questions"
   ]
  },
  {
   "cell_type": "markdown",
   "metadata": {
    "tags": []
   },
   "source": [
    "### 1. Which lesson appears to attract the most traffic consistently across cohorts (per program)?"
   ]
  },
  {
   "cell_type": "code",
   "execution_count": 11,
   "metadata": {},
   "outputs": [
    {
     "data": {
      "text/plain": [
       "4"
      ]
     },
     "execution_count": 11,
     "metadata": {},
     "output_type": "execute_result"
    }
   ],
   "source": [
    "# Check number of unique programs\n",
    "ids = df1.program_id.unique()\n",
    "df1.program_id.nunique()"
   ]
  },
  {
   "cell_type": "markdown",
   "metadata": {},
   "source": [
    "There are 4 different programs"
   ]
  },
  {
   "cell_type": "code",
   "execution_count": 12,
   "metadata": {},
   "outputs": [],
   "source": [
    "# Create a little filter to ignore homepage and json files\n",
    "dot = df1.path.str.contains('.json')\n",
    "slash = df1.path != '/'\n",
    "n_dot = [not elem for elem in dot]"
   ]
  },
  {
   "cell_type": "code",
   "execution_count": 13,
   "metadata": {},
   "outputs": [],
   "source": [
    "clean_df = df1[n_dot & slash]  # Create clean df"
   ]
  },
  {
   "cell_type": "code",
   "execution_count": 14,
   "metadata": {},
   "outputs": [
    {
     "name": "stdout",
     "output_type": "stream",
     "text": [
      "Program id: 1\n",
      "path\n",
      "index.html      1011\n",
      "javascript-i     736\n",
      "html-css         542\n",
      "Name: count, dtype: int64\n",
      "\n",
      "\n",
      "Program id: 2\n",
      "path\n",
      "javascript-i    17457\n",
      "toc             17428\n",
      "java-iii        12683\n",
      "Name: count, dtype: int64\n",
      "\n",
      "\n",
      "Program id: 4\n",
      "path\n",
      "content/html-css                               2\n",
      "content/html-css/gitbook/images/favicon.ico    1\n",
      "content/html-css/introduction.html             1\n",
      "Name: count, dtype: int64\n",
      "\n",
      "\n",
      "Program id: 3\n",
      "path\n",
      "classification/overview                     1785\n",
      "1-fundamentals/modern-data-scientist.jpg    1655\n",
      "1-fundamentals/AI-ML-DL-timeline.jpg        1651\n",
      "Name: count, dtype: int64\n",
      "\n",
      "\n"
     ]
    }
   ],
   "source": [
    "# Loop to check most accessed page per program\n",
    "for program in ids:\n",
    "    print(f'Program id: {program}')\n",
    "    print(clean_df[clean_df.program_id == program].path.value_counts()[:3])\n",
    "    print()\n",
    "    print()"
   ]
  },
  {
   "cell_type": "markdown",
   "metadata": {},
   "source": [
    "The lesson that appears the most for each program is:\n",
    "* 1: javascript-i\n",
    "* 2: javascript-i\n",
    "* 3: content/html-css\n",
    "* 4: classification/overview"
   ]
  },
  {
   "cell_type": "markdown",
   "metadata": {},
   "source": [
    "___\n",
    "#### Visual"
   ]
  },
  {
   "cell_type": "code",
   "execution_count": 15,
   "metadata": {},
   "outputs": [
    {
     "data": {
      "text/html": [
       "<div>\n",
       "<style scoped>\n",
       "    .dataframe tbody tr th:only-of-type {\n",
       "        vertical-align: middle;\n",
       "    }\n",
       "\n",
       "    .dataframe tbody tr th {\n",
       "        vertical-align: top;\n",
       "    }\n",
       "\n",
       "    .dataframe thead th {\n",
       "        text-align: right;\n",
       "    }\n",
       "</style>\n",
       "<table border=\"1\" class=\"dataframe\">\n",
       "  <thead>\n",
       "    <tr style=\"text-align: right;\">\n",
       "      <th></th>\n",
       "      <th>date</th>\n",
       "      <th>time</th>\n",
       "      <th>path</th>\n",
       "      <th>user_id</th>\n",
       "      <th>cohort_id</th>\n",
       "      <th>ip</th>\n",
       "      <th>name</th>\n",
       "      <th>slack</th>\n",
       "      <th>start_date</th>\n",
       "      <th>end_date</th>\n",
       "      <th>program_id</th>\n",
       "      <th>subject</th>\n",
       "      <th>lesson</th>\n",
       "    </tr>\n",
       "  </thead>\n",
       "  <tbody>\n",
       "    <tr>\n",
       "      <th>0</th>\n",
       "      <td>2018-01-26</td>\n",
       "      <td>09:56:02</td>\n",
       "      <td>java-ii</td>\n",
       "      <td>1</td>\n",
       "      <td>8</td>\n",
       "      <td>97.105.19.61</td>\n",
       "      <td>Hampton</td>\n",
       "      <td>#hampton</td>\n",
       "      <td>2015-09-22</td>\n",
       "      <td>2016-02-06</td>\n",
       "      <td>1</td>\n",
       "      <td>java-ii</td>\n",
       "      <td>java-ii</td>\n",
       "    </tr>\n",
       "    <tr>\n",
       "      <th>1</th>\n",
       "      <td>2018-01-26</td>\n",
       "      <td>09:56:05</td>\n",
       "      <td>java-ii/object-oriented-programming</td>\n",
       "      <td>1</td>\n",
       "      <td>8</td>\n",
       "      <td>97.105.19.61</td>\n",
       "      <td>Hampton</td>\n",
       "      <td>#hampton</td>\n",
       "      <td>2015-09-22</td>\n",
       "      <td>2016-02-06</td>\n",
       "      <td>1</td>\n",
       "      <td>java-ii</td>\n",
       "      <td>object-oriented-programming</td>\n",
       "    </tr>\n",
       "    <tr>\n",
       "      <th>2</th>\n",
       "      <td>2018-01-26</td>\n",
       "      <td>09:56:06</td>\n",
       "      <td>slides/object_oriented_programming</td>\n",
       "      <td>1</td>\n",
       "      <td>8</td>\n",
       "      <td>97.105.19.61</td>\n",
       "      <td>Hampton</td>\n",
       "      <td>#hampton</td>\n",
       "      <td>2015-09-22</td>\n",
       "      <td>2016-02-06</td>\n",
       "      <td>1</td>\n",
       "      <td>slides</td>\n",
       "      <td>object_oriented_programming</td>\n",
       "    </tr>\n",
       "    <tr>\n",
       "      <th>3</th>\n",
       "      <td>2018-01-26</td>\n",
       "      <td>09:56:24</td>\n",
       "      <td>javascript-i/conditionals</td>\n",
       "      <td>2</td>\n",
       "      <td>22</td>\n",
       "      <td>97.105.19.61</td>\n",
       "      <td>Teddy</td>\n",
       "      <td>#teddy</td>\n",
       "      <td>2018-01-08</td>\n",
       "      <td>2018-05-17</td>\n",
       "      <td>2</td>\n",
       "      <td>javascript-i</td>\n",
       "      <td>conditionals</td>\n",
       "    </tr>\n",
       "    <tr>\n",
       "      <th>4</th>\n",
       "      <td>2018-01-26</td>\n",
       "      <td>09:56:41</td>\n",
       "      <td>javascript-i/loops</td>\n",
       "      <td>2</td>\n",
       "      <td>22</td>\n",
       "      <td>97.105.19.61</td>\n",
       "      <td>Teddy</td>\n",
       "      <td>#teddy</td>\n",
       "      <td>2018-01-08</td>\n",
       "      <td>2018-05-17</td>\n",
       "      <td>2</td>\n",
       "      <td>javascript-i</td>\n",
       "      <td>loops</td>\n",
       "    </tr>\n",
       "  </tbody>\n",
       "</table>\n",
       "</div>"
      ],
      "text/plain": [
       "         date      time                                 path  user_id  \\\n",
       "0  2018-01-26  09:56:02                              java-ii        1   \n",
       "1  2018-01-26  09:56:05  java-ii/object-oriented-programming        1   \n",
       "2  2018-01-26  09:56:06   slides/object_oriented_programming        1   \n",
       "3  2018-01-26  09:56:24            javascript-i/conditionals        2   \n",
       "4  2018-01-26  09:56:41                   javascript-i/loops        2   \n",
       "\n",
       "   cohort_id            ip     name     slack  start_date    end_date  \\\n",
       "0          8  97.105.19.61  Hampton  #hampton  2015-09-22  2016-02-06   \n",
       "1          8  97.105.19.61  Hampton  #hampton  2015-09-22  2016-02-06   \n",
       "2          8  97.105.19.61  Hampton  #hampton  2015-09-22  2016-02-06   \n",
       "3         22  97.105.19.61    Teddy    #teddy  2018-01-08  2018-05-17   \n",
       "4         22  97.105.19.61    Teddy    #teddy  2018-01-08  2018-05-17   \n",
       "\n",
       "   program_id       subject                       lesson  \n",
       "0           1       java-ii                      java-ii  \n",
       "1           1       java-ii  object-oriented-programming  \n",
       "2           1        slides  object_oriented_programming  \n",
       "3           2  javascript-i                 conditionals  \n",
       "4           2  javascript-i                        loops  "
      ]
     },
     "execution_count": 15,
     "metadata": {},
     "output_type": "execute_result"
    }
   ],
   "source": [
    "df_john =pd.read_csv('df.csv')\n",
    "df_john.head()"
   ]
  },
  {
   "cell_type": "code",
   "execution_count": 16,
   "metadata": {},
   "outputs": [],
   "source": [
    "# Group by 'program_id' and 'path', then count the occurrences to identify the most visited lesson per program\n",
    "traffic_program = df_john.groupby(['program_id','subject', 'lesson']).size().reset_index(name='visit_count')\n",
    "\n",
    "# Sort the DataFrame by 'program_id' and 'visit_count' to get the top 10 most visited lessons per program\n",
    "traffic_program = traffic_program.sort_values(['program_id', 'visit_count'], ascending=[True, False])"
   ]
  },
  {
   "cell_type": "code",
   "execution_count": 17,
   "metadata": {},
   "outputs": [
    {
     "data": {
      "image/png": "[encoded data removed]",
      "text/plain": [
       "<Figure size 1400x500 with 3 Axes>"
      ]
     },
     "metadata": {},
     "output_type": "display_data"
    }
   ],
   "source": [
    "# Create subplots that will hold the barplots\n",
    "fig, axes = plt.subplots(1, 3, figsize=(14, 5))\n",
    "fig.suptitle('Top 5 Most Visited Lessons by Program', fontsize=14)\n",
    "\n",
    "# Flatten axes for easy iteration\n",
    "axes = axes.flatten()\n",
    "\n",
    "# Program IDs\n",
    "program_ids = [1, 2, 3]\n",
    "\n",
    "for i, program_id in enumerate(program_ids):\n",
    "    # Get the top 5 most visited lessons for the current program\n",
    "    top_5_per_program = traffic_program[traffic_program['program_id'] == program_id].head(3)\n",
    "    \n",
    "    # Create the bar plot using the top 5 most visited lessons for the current program\n",
    "    ax = axes[i]\n",
    "    vis.johns_barsubplot(ax, x='lesson', y='visit_count', data=top_5_per_program, \n",
    "                     title=f'Program: {program_id}', xlabel='', single_color='#1f77b4', x_label_rotation= 0)\n",
    "\n",
    "# Show the plot\n",
    "plt.tight_layout(rect=[0, 0.03, 1, 0.95])\n",
    "plt.show()"
   ]
  },
  {
   "cell_type": "markdown",
   "metadata": {
    "tags": []
   },
   "source": [
    "### 2. Is there a cohort that referred to a lesson significantly more than other cohorts seemed to gloss over?"
   ]
  },
  {
   "cell_type": "markdown",
   "metadata": {},
   "source": [
    "To check this, we will create a dataframe that details how many time each page(path) was accessed by each cohort"
   ]
  },
  {
   "cell_type": "code",
   "execution_count": 18,
   "metadata": {},
   "outputs": [],
   "source": [
    "# Create empty df and add path column\n",
    "gg = pd.DataFrame()\n",
    "gg['path'] = df1.path"
   ]
  },
  {
   "cell_type": "code",
   "execution_count": 19,
   "metadata": {},
   "outputs": [],
   "source": [
    "# Loop through every cohort name creating a column for each and returning true for if the pach access was made by that cohort\n",
    "for cohort in df1.cohort_id.unique():\n",
    "    gg[f'cohort_{cohort}'] = df1.cohort_id == cohort"
   ]
  },
  {
   "cell_type": "code",
   "execution_count": 20,
   "metadata": {},
   "outputs": [],
   "source": [
    "# Group by path\n",
    "counts = gg.groupby('path').sum()"
   ]
  },
  {
   "cell_type": "code",
   "execution_count": 21,
   "metadata": {},
   "outputs": [
    {
     "data": {
      "text/html": [
       "<div>\n",
       "<style scoped>\n",
       "    .dataframe tbody tr th:only-of-type {\n",
       "        vertical-align: middle;\n",
       "    }\n",
       "\n",
       "    .dataframe tbody tr th {\n",
       "        vertical-align: top;\n",
       "    }\n",
       "\n",
       "    .dataframe thead th {\n",
       "        text-align: right;\n",
       "    }\n",
       "</style>\n",
       "<table border=\"1\" class=\"dataframe\">\n",
       "  <thead>\n",
       "    <tr style=\"text-align: right;\">\n",
       "      <th></th>\n",
       "      <th>cohort_8</th>\n",
       "      <th>cohort_22</th>\n",
       "      <th>cohort_21</th>\n",
       "      <th>cohort_1</th>\n",
       "      <th>cohort_16</th>\n",
       "      <th>cohort_18</th>\n",
       "      <th>cohort_19</th>\n",
       "      <th>cohort_13</th>\n",
       "      <th>cohort_14</th>\n",
       "      <th>cohort_15</th>\n",
       "      <th>...</th>\n",
       "      <th>cohort_59</th>\n",
       "      <th>cohort_61</th>\n",
       "      <th>cohort_62</th>\n",
       "      <th>cohort_132</th>\n",
       "      <th>cohort_134</th>\n",
       "      <th>cohort_133</th>\n",
       "      <th>cohort_135</th>\n",
       "      <th>cohort_138</th>\n",
       "      <th>cohort_137</th>\n",
       "      <th>cohort_139</th>\n",
       "    </tr>\n",
       "    <tr>\n",
       "      <th>path</th>\n",
       "      <th></th>\n",
       "      <th></th>\n",
       "      <th></th>\n",
       "      <th></th>\n",
       "      <th></th>\n",
       "      <th></th>\n",
       "      <th></th>\n",
       "      <th></th>\n",
       "      <th></th>\n",
       "      <th></th>\n",
       "      <th></th>\n",
       "      <th></th>\n",
       "      <th></th>\n",
       "      <th></th>\n",
       "      <th></th>\n",
       "      <th></th>\n",
       "      <th></th>\n",
       "      <th></th>\n",
       "      <th></th>\n",
       "      <th></th>\n",
       "      <th></th>\n",
       "    </tr>\n",
       "  </thead>\n",
       "  <tbody>\n",
       "    <tr>\n",
       "      <th>%20https://github.com/RaulCPena</th>\n",
       "      <td>0</td>\n",
       "      <td>0</td>\n",
       "      <td>0</td>\n",
       "      <td>0</td>\n",
       "      <td>0</td>\n",
       "      <td>0</td>\n",
       "      <td>0</td>\n",
       "      <td>0</td>\n",
       "      <td>0</td>\n",
       "      <td>0</td>\n",
       "      <td>...</td>\n",
       "      <td>0</td>\n",
       "      <td>0</td>\n",
       "      <td>0</td>\n",
       "      <td>0</td>\n",
       "      <td>0</td>\n",
       "      <td>0</td>\n",
       "      <td>0</td>\n",
       "      <td>0</td>\n",
       "      <td>0</td>\n",
       "      <td>0</td>\n",
       "    </tr>\n",
       "    <tr>\n",
       "      <th>'</th>\n",
       "      <td>0</td>\n",
       "      <td>0</td>\n",
       "      <td>0</td>\n",
       "      <td>0</td>\n",
       "      <td>0</td>\n",
       "      <td>0</td>\n",
       "      <td>0</td>\n",
       "      <td>0</td>\n",
       "      <td>0</td>\n",
       "      <td>0</td>\n",
       "      <td>...</td>\n",
       "      <td>0</td>\n",
       "      <td>0</td>\n",
       "      <td>0</td>\n",
       "      <td>0</td>\n",
       "      <td>0</td>\n",
       "      <td>0</td>\n",
       "      <td>0</td>\n",
       "      <td>0</td>\n",
       "      <td>0</td>\n",
       "      <td>0</td>\n",
       "    </tr>\n",
       "    <tr>\n",
       "      <th>,%20https://github.com/RaulCPena</th>\n",
       "      <td>0</td>\n",
       "      <td>0</td>\n",
       "      <td>0</td>\n",
       "      <td>0</td>\n",
       "      <td>0</td>\n",
       "      <td>0</td>\n",
       "      <td>0</td>\n",
       "      <td>0</td>\n",
       "      <td>0</td>\n",
       "      <td>0</td>\n",
       "      <td>...</td>\n",
       "      <td>0</td>\n",
       "      <td>0</td>\n",
       "      <td>0</td>\n",
       "      <td>0</td>\n",
       "      <td>0</td>\n",
       "      <td>0</td>\n",
       "      <td>0</td>\n",
       "      <td>0</td>\n",
       "      <td>0</td>\n",
       "      <td>0</td>\n",
       "    </tr>\n",
       "  </tbody>\n",
       "</table>\n",
       "<p>3 rows × 47 columns</p>\n",
       "</div>"
      ],
      "text/plain": [
       "                                  cohort_8  cohort_22  cohort_21  cohort_1  \\\n",
       "path                                                                         \n",
       "%20https://github.com/RaulCPena          0          0          0         0   \n",
       "'                                        0          0          0         0   \n",
       ",%20https://github.com/RaulCPena         0          0          0         0   \n",
       "\n",
       "                                  cohort_16  cohort_18  cohort_19  cohort_13  \\\n",
       "path                                                                           \n",
       "%20https://github.com/RaulCPena           0          0          0          0   \n",
       "'                                         0          0          0          0   \n",
       ",%20https://github.com/RaulCPena          0          0          0          0   \n",
       "\n",
       "                                  cohort_14  cohort_15  ...  cohort_59  \\\n",
       "path                                                    ...              \n",
       "%20https://github.com/RaulCPena           0          0  ...          0   \n",
       "'                                         0          0  ...          0   \n",
       ",%20https://github.com/RaulCPena          0          0  ...          0   \n",
       "\n",
       "                                  cohort_61  cohort_62  cohort_132  \\\n",
       "path                                                                 \n",
       "%20https://github.com/RaulCPena           0          0           0   \n",
       "'                                         0          0           0   \n",
       ",%20https://github.com/RaulCPena          0          0           0   \n",
       "\n",
       "                                  cohort_134  cohort_133  cohort_135  \\\n",
       "path                                                                   \n",
       "%20https://github.com/RaulCPena            0           0           0   \n",
       "'                                          0           0           0   \n",
       ",%20https://github.com/RaulCPena           0           0           0   \n",
       "\n",
       "                                  cohort_138  cohort_137  cohort_139  \n",
       "path                                                                  \n",
       "%20https://github.com/RaulCPena            0           0           0  \n",
       "'                                          0           0           0  \n",
       ",%20https://github.com/RaulCPena           0           0           0  \n",
       "\n",
       "[3 rows x 47 columns]"
      ]
     },
     "execution_count": 21,
     "metadata": {},
     "output_type": "execute_result"
    }
   ],
   "source": [
    "counts.head(3)"
   ]
  },
  {
   "cell_type": "code",
   "execution_count": 22,
   "metadata": {},
   "outputs": [],
   "source": [
    "# Create function to access top counts for each page separated by cohort\n",
    "def access_counts(page,top=None):\n",
    "    print(counts.loc[page].sort_values(ascending=False)[:top])"
   ]
  },
  {
   "cell_type": "code",
   "execution_count": 23,
   "metadata": {},
   "outputs": [
    {
     "name": "stdout",
     "output_type": "stream",
     "text": [
      "cohort_28     1817\n",
      "cohort_33     1003\n",
      "cohort_62      926\n",
      "cohort_58      910\n",
      "cohort_135     907\n",
      "Name: javascript-i, dtype: int64\n"
     ]
    }
   ],
   "source": [
    "access_counts('javascript-i', 5)  # Top 5 cohorts accessing 'javascript-i'"
   ]
  },
  {
   "cell_type": "code",
   "execution_count": 24,
   "metadata": {},
   "outputs": [
    {
     "name": "stdout",
     "output_type": "stream",
     "text": [
      "cohort_59     1109\n",
      "cohort_28      851\n",
      "cohort_133     445\n",
      "cohort_55      136\n",
      "cohort_137      60\n",
      "Name: classification/overview, dtype: int64\n"
     ]
    }
   ],
   "source": [
    "access_counts('classification/overview', 5)  # Top 5 cohorts accessing 'classification/overview'"
   ]
  },
  {
   "cell_type": "code",
   "execution_count": 25,
   "metadata": {},
   "outputs": [
    {
     "name": "stdout",
     "output_type": "stream",
     "text": [
      "cohort_62    1866\n",
      "cohort_29    1465\n",
      "cohort_53    1293\n",
      "cohort_58    1022\n",
      "cohort_25     991\n",
      "Name: toc, dtype: int64\n"
     ]
    }
   ],
   "source": [
    "access_counts('toc', 5)  # Top 5 cohorts accessing 'toc'"
   ]
  },
  {
   "cell_type": "code",
   "execution_count": null,
   "metadata": {},
   "outputs": [],
   "source": []
  },
  {
   "cell_type": "markdown",
   "metadata": {},
   "source": [
    "Lets take the original dataframe and group it by 'cohort_id', 'subject', 'lesson'\n",
    "\n",
    "We will also sort it by most visits"
   ]
  },
  {
   "cell_type": "code",
   "execution_count": 26,
   "metadata": {},
   "outputs": [
    {
     "data": {
      "text/html": [
       "<div>\n",
       "<style scoped>\n",
       "    .dataframe tbody tr th:only-of-type {\n",
       "        vertical-align: middle;\n",
       "    }\n",
       "\n",
       "    .dataframe tbody tr th {\n",
       "        vertical-align: top;\n",
       "    }\n",
       "\n",
       "    .dataframe thead th {\n",
       "        text-align: right;\n",
       "    }\n",
       "</style>\n",
       "<table border=\"1\" class=\"dataframe\">\n",
       "  <thead>\n",
       "    <tr style=\"text-align: right;\">\n",
       "      <th></th>\n",
       "      <th>program_id</th>\n",
       "      <th>cohort_id</th>\n",
       "      <th>subject</th>\n",
       "      <th>lesson</th>\n",
       "      <th>visit_count</th>\n",
       "    </tr>\n",
       "  </thead>\n",
       "  <tbody>\n",
       "    <tr>\n",
       "      <th>141</th>\n",
       "      <td>1</td>\n",
       "      <td>1</td>\n",
       "      <td>spring</td>\n",
       "      <td>fundamentals</td>\n",
       "      <td>573</td>\n",
       "    </tr>\n",
       "    <tr>\n",
       "      <th>30</th>\n",
       "      <td>1</td>\n",
       "      <td>1</td>\n",
       "      <td>html-css</td>\n",
       "      <td>css-ii</td>\n",
       "      <td>320</td>\n",
       "    </tr>\n",
       "    <tr>\n",
       "      <th>69</th>\n",
       "      <td>1</td>\n",
       "      <td>1</td>\n",
       "      <td>javascript-i</td>\n",
       "      <td>javascript-i</td>\n",
       "      <td>294</td>\n",
       "    </tr>\n",
       "    <tr>\n",
       "      <th>29</th>\n",
       "      <td>1</td>\n",
       "      <td>1</td>\n",
       "      <td>html-css</td>\n",
       "      <td>css-i</td>\n",
       "      <td>274</td>\n",
       "    </tr>\n",
       "    <tr>\n",
       "      <th>68</th>\n",
       "      <td>1</td>\n",
       "      <td>1</td>\n",
       "      <td>javascript-i</td>\n",
       "      <td>introduction</td>\n",
       "      <td>237</td>\n",
       "    </tr>\n",
       "  </tbody>\n",
       "</table>\n",
       "</div>"
      ],
      "text/plain": [
       "     program_id  cohort_id       subject        lesson  visit_count\n",
       "141           1          1        spring  fundamentals          573\n",
       "30            1          1      html-css        css-ii          320\n",
       "69            1          1  javascript-i  javascript-i          294\n",
       "29            1          1      html-css         css-i          274\n",
       "68            1          1  javascript-i  introduction          237"
      ]
     },
     "execution_count": 26,
     "metadata": {},
     "output_type": "execute_result"
    }
   ],
   "source": [
    "# Group by 'program_id' and 'path', then count the occurrences to identify the most visited lesson per program\n",
    "traffic_cohort = df_john.groupby(['program_id', 'cohort_id', 'subject', 'lesson']).size().reset_index(name='visit_count')\n",
    "\n",
    "# Sort the DataFrame by 'program_id' and 'visit_count' to get the top 10 most visited lessons per program\n",
    "traffic_cohort = traffic_cohort.sort_values(['cohort_id', 'visit_count'], ascending=[True, False])\n",
    "traffic_cohort.head()"
   ]
  },
  {
   "cell_type": "markdown",
   "metadata": {},
   "source": [
    "We will normalize the visit count by adding aggregating the total visit count and dividing visits by total visits. "
   ]
  },
  {
   "cell_type": "code",
   "execution_count": 27,
   "metadata": {},
   "outputs": [
    {
     "data": {
      "text/html": [
       "<div>\n",
       "<style scoped>\n",
       "    .dataframe tbody tr th:only-of-type {\n",
       "        vertical-align: middle;\n",
       "    }\n",
       "\n",
       "    .dataframe tbody tr th {\n",
       "        vertical-align: top;\n",
       "    }\n",
       "\n",
       "    .dataframe thead th {\n",
       "        text-align: right;\n",
       "    }\n",
       "</style>\n",
       "<table border=\"1\" class=\"dataframe\">\n",
       "  <thead>\n",
       "    <tr style=\"text-align: right;\">\n",
       "      <th></th>\n",
       "      <th>program_id</th>\n",
       "      <th>cohort_id</th>\n",
       "      <th>subject</th>\n",
       "      <th>lesson</th>\n",
       "      <th>visit_count</th>\n",
       "      <th>total_visits</th>\n",
       "      <th>normalized_visit_count</th>\n",
       "    </tr>\n",
       "  </thead>\n",
       "  <tbody>\n",
       "    <tr>\n",
       "      <th>0</th>\n",
       "      <td>1</td>\n",
       "      <td>1</td>\n",
       "      <td>spring</td>\n",
       "      <td>fundamentals</td>\n",
       "      <td>573</td>\n",
       "      <td>7847</td>\n",
       "      <td>0.073022</td>\n",
       "    </tr>\n",
       "    <tr>\n",
       "      <th>1</th>\n",
       "      <td>1</td>\n",
       "      <td>1</td>\n",
       "      <td>html-css</td>\n",
       "      <td>css-ii</td>\n",
       "      <td>320</td>\n",
       "      <td>7847</td>\n",
       "      <td>0.040780</td>\n",
       "    </tr>\n",
       "    <tr>\n",
       "      <th>2</th>\n",
       "      <td>1</td>\n",
       "      <td>1</td>\n",
       "      <td>javascript-i</td>\n",
       "      <td>javascript-i</td>\n",
       "      <td>294</td>\n",
       "      <td>7847</td>\n",
       "      <td>0.037467</td>\n",
       "    </tr>\n",
       "    <tr>\n",
       "      <th>3</th>\n",
       "      <td>1</td>\n",
       "      <td>1</td>\n",
       "      <td>html-css</td>\n",
       "      <td>css-i</td>\n",
       "      <td>274</td>\n",
       "      <td>7847</td>\n",
       "      <td>0.034918</td>\n",
       "    </tr>\n",
       "    <tr>\n",
       "      <th>4</th>\n",
       "      <td>1</td>\n",
       "      <td>1</td>\n",
       "      <td>javascript-i</td>\n",
       "      <td>introduction</td>\n",
       "      <td>237</td>\n",
       "      <td>7847</td>\n",
       "      <td>0.030203</td>\n",
       "    </tr>\n",
       "  </tbody>\n",
       "</table>\n",
       "</div>"
      ],
      "text/plain": [
       "   program_id  cohort_id       subject        lesson  visit_count  \\\n",
       "0           1          1        spring  fundamentals          573   \n",
       "1           1          1      html-css        css-ii          320   \n",
       "2           1          1  javascript-i  javascript-i          294   \n",
       "3           1          1      html-css         css-i          274   \n",
       "4           1          1  javascript-i  introduction          237   \n",
       "\n",
       "   total_visits  normalized_visit_count  \n",
       "0          7847                0.073022  \n",
       "1          7847                0.040780  \n",
       "2          7847                0.037467  \n",
       "3          7847                0.034918  \n",
       "4          7847                0.030203  "
      ]
     },
     "execution_count": 27,
     "metadata": {},
     "output_type": "execute_result"
    }
   ],
   "source": [
    "# Calculate the total visit_count for each cohort\n",
    "total_visits_per_cohort = traffic_cohort.groupby('cohort_id')['visit_count'].sum().reset_index(name='total_visits')\n",
    "\n",
    "# Merge the total visit counts back into the original DataFrame\n",
    "traffic_cohort = pd.merge(traffic_cohort, total_visits_per_cohort, on='cohort_id')\n",
    "\n",
    "# Calculate the normalized visit_count\n",
    "traffic_cohort['normalized_visit_count'] = traffic_cohort['visit_count'] / traffic_cohort['total_visits']\n",
    "\n",
    "# Displaying the first few rows after normalization\n",
    "traffic_cohort.head()\n"
   ]
  },
  {
   "cell_type": "markdown",
   "metadata": {},
   "source": [
    "Now tha we have the normalize visit count, we can get the average visit and the standard deviation by cohort"
   ]
  },
  {
   "cell_type": "code",
   "execution_count": 28,
   "metadata": {},
   "outputs": [
    {
     "data": {
      "text/html": [
       "<div>\n",
       "<style scoped>\n",
       "    .dataframe tbody tr th:only-of-type {\n",
       "        vertical-align: middle;\n",
       "    }\n",
       "\n",
       "    .dataframe tbody tr th {\n",
       "        vertical-align: top;\n",
       "    }\n",
       "\n",
       "    .dataframe thead th {\n",
       "        text-align: right;\n",
       "    }\n",
       "</style>\n",
       "<table border=\"1\" class=\"dataframe\">\n",
       "  <thead>\n",
       "    <tr style=\"text-align: right;\">\n",
       "      <th></th>\n",
       "      <th>program_id</th>\n",
       "      <th>cohort_id</th>\n",
       "      <th>subject</th>\n",
       "      <th>lesson</th>\n",
       "      <th>visit_count</th>\n",
       "      <th>total_visits</th>\n",
       "      <th>normalized_visit_count</th>\n",
       "      <th>mean</th>\n",
       "      <th>std</th>\n",
       "      <th>z_score</th>\n",
       "    </tr>\n",
       "  </thead>\n",
       "  <tbody>\n",
       "    <tr>\n",
       "      <th>0</th>\n",
       "      <td>1</td>\n",
       "      <td>1</td>\n",
       "      <td>spring</td>\n",
       "      <td>fundamentals</td>\n",
       "      <td>573</td>\n",
       "      <td>7847</td>\n",
       "      <td>0.073022</td>\n",
       "      <td>0.052399</td>\n",
       "      <td>0.034682</td>\n",
       "      <td>0.594620</td>\n",
       "    </tr>\n",
       "    <tr>\n",
       "      <th>1</th>\n",
       "      <td>1</td>\n",
       "      <td>6</td>\n",
       "      <td>spring</td>\n",
       "      <td>fundamentals</td>\n",
       "      <td>1</td>\n",
       "      <td>67</td>\n",
       "      <td>0.014925</td>\n",
       "      <td>0.052399</td>\n",
       "      <td>0.034682</td>\n",
       "      <td>-1.080501</td>\n",
       "    </tr>\n",
       "    <tr>\n",
       "      <th>2</th>\n",
       "      <td>1</td>\n",
       "      <td>7</td>\n",
       "      <td>spring</td>\n",
       "      <td>fundamentals</td>\n",
       "      <td>1</td>\n",
       "      <td>378</td>\n",
       "      <td>0.002646</td>\n",
       "      <td>0.052399</td>\n",
       "      <td>0.034682</td>\n",
       "      <td>-1.434574</td>\n",
       "    </tr>\n",
       "    <tr>\n",
       "      <th>3</th>\n",
       "      <td>1</td>\n",
       "      <td>8</td>\n",
       "      <td>spring</td>\n",
       "      <td>fundamentals</td>\n",
       "      <td>95</td>\n",
       "      <td>1392</td>\n",
       "      <td>0.068247</td>\n",
       "      <td>0.052399</td>\n",
       "      <td>0.034682</td>\n",
       "      <td>0.456957</td>\n",
       "    </tr>\n",
       "    <tr>\n",
       "      <th>4</th>\n",
       "      <td>1</td>\n",
       "      <td>14</td>\n",
       "      <td>spring</td>\n",
       "      <td>fundamentals</td>\n",
       "      <td>690</td>\n",
       "      <td>7622</td>\n",
       "      <td>0.090527</td>\n",
       "      <td>0.052399</td>\n",
       "      <td>0.034682</td>\n",
       "      <td>1.099377</td>\n",
       "    </tr>\n",
       "  </tbody>\n",
       "</table>\n",
       "</div>"
      ],
      "text/plain": [
       "   program_id  cohort_id subject        lesson  visit_count  total_visits  \\\n",
       "0           1          1  spring  fundamentals          573          7847   \n",
       "1           1          6  spring  fundamentals            1            67   \n",
       "2           1          7  spring  fundamentals            1           378   \n",
       "3           1          8  spring  fundamentals           95          1392   \n",
       "4           1         14  spring  fundamentals          690          7622   \n",
       "\n",
       "   normalized_visit_count      mean       std   z_score  \n",
       "0                0.073022  0.052399  0.034682  0.594620  \n",
       "1                0.014925  0.052399  0.034682 -1.080501  \n",
       "2                0.002646  0.052399  0.034682 -1.434574  \n",
       "3                0.068247  0.052399  0.034682  0.456957  \n",
       "4                0.090527  0.052399  0.034682  1.099377  "
      ]
     },
     "execution_count": 28,
     "metadata": {},
     "output_type": "execute_result"
    }
   ],
   "source": [
    "# Group data by unique lessons (subject and lesson) and calculate mean and std of normalized_visit_count\n",
    "lesson_statistics = traffic_cohort.groupby(['subject', 'lesson'])['normalized_visit_count'].agg(['mean', 'std']).reset_index()\n",
    "\n",
    "# Merge these statistics back into the original DataFrame\n",
    "traffic_cohort = pd.merge(traffic_cohort, lesson_statistics, on=['subject', 'lesson'])\n",
    "\n",
    "# Calculate the Z-score for each lesson in each cohort\n",
    "traffic_cohort['z_score'] = (traffic_cohort['normalized_visit_count'] - traffic_cohort['mean']) / traffic_cohort['std']\n",
    "traffic_cohort.head()"
   ]
  },
  {
   "cell_type": "markdown",
   "metadata": {},
   "source": [
    "finally we will display 3 tables, one for each program id. This is due to the large difference in visit counts between programs \n",
    "\n",
    "We will be able to see the top 5 lessons that get referred significantly more. "
   ]
  },
  {
   "cell_type": "markdown",
   "metadata": {},
   "source": [
    "#### `cloud program`"
   ]
  },
  {
   "cell_type": "code",
   "execution_count": 51,
   "metadata": {},
   "outputs": [
    {
     "data": {
      "text/html": [
       "<div>\n",
       "<style scoped>\n",
       "    .dataframe tbody tr th:only-of-type {\n",
       "        vertical-align: middle;\n",
       "    }\n",
       "\n",
       "    .dataframe tbody tr th {\n",
       "        vertical-align: top;\n",
       "    }\n",
       "\n",
       "    .dataframe thead th {\n",
       "        text-align: right;\n",
       "    }\n",
       "</style>\n",
       "<table border=\"1\" class=\"dataframe\">\n",
       "  <thead>\n",
       "    <tr style=\"text-align: right;\">\n",
       "      <th></th>\n",
       "      <th>program_id</th>\n",
       "      <th>cohort_id</th>\n",
       "      <th>subject</th>\n",
       "      <th>lesson</th>\n",
       "      <th>visit_count</th>\n",
       "      <th>total_visits</th>\n",
       "      <th>normalized_visit_count</th>\n",
       "      <th>mean</th>\n",
       "      <th>std</th>\n",
       "      <th>z_score</th>\n",
       "    </tr>\n",
       "  </thead>\n",
       "  <tbody>\n",
       "    <tr>\n",
       "      <th>3988</th>\n",
       "      <td>1</td>\n",
       "      <td>17</td>\n",
       "      <td>web-design</td>\n",
       "      <td>ui</td>\n",
       "      <td>67</td>\n",
       "      <td>3814</td>\n",
       "      <td>0.017567</td>\n",
       "      <td>0.001966</td>\n",
       "      <td>0.003403</td>\n",
       "      <td>4.584714</td>\n",
       "    </tr>\n",
       "    <tr>\n",
       "      <th>4014</th>\n",
       "      <td>1</td>\n",
       "      <td>17</td>\n",
       "      <td>web-design</td>\n",
       "      <td>ux</td>\n",
       "      <td>43</td>\n",
       "      <td>3814</td>\n",
       "      <td>0.011274</td>\n",
       "      <td>0.001272</td>\n",
       "      <td>0.002255</td>\n",
       "      <td>4.436567</td>\n",
       "    </tr>\n",
       "    <tr>\n",
       "      <th>4073</th>\n",
       "      <td>1</td>\n",
       "      <td>17</td>\n",
       "      <td>web-design</td>\n",
       "      <td>intro</td>\n",
       "      <td>27</td>\n",
       "      <td>3814</td>\n",
       "      <td>0.007079</td>\n",
       "      <td>0.000803</td>\n",
       "      <td>0.001418</td>\n",
       "      <td>4.424993</td>\n",
       "    </tr>\n",
       "    <tr>\n",
       "      <th>2529</th>\n",
       "      <td>1</td>\n",
       "      <td>8</td>\n",
       "      <td>appendix</td>\n",
       "      <td>git</td>\n",
       "      <td>35</td>\n",
       "      <td>1392</td>\n",
       "      <td>0.025144</td>\n",
       "      <td>0.005927</td>\n",
       "      <td>0.005151</td>\n",
       "      <td>3.730266</td>\n",
       "    </tr>\n",
       "    <tr>\n",
       "      <th>726</th>\n",
       "      <td>1</td>\n",
       "      <td>8</td>\n",
       "      <td>appendix</td>\n",
       "      <td>further-reading</td>\n",
       "      <td>39</td>\n",
       "      <td>1392</td>\n",
       "      <td>0.028017</td>\n",
       "      <td>0.008844</td>\n",
       "      <td>0.005311</td>\n",
       "      <td>3.609806</td>\n",
       "    </tr>\n",
       "  </tbody>\n",
       "</table>\n",
       "</div>"
      ],
      "text/plain": [
       "      program_id  cohort_id     subject           lesson  visit_count  \\\n",
       "3988           1         17  web-design               ui           67   \n",
       "4014           1         17  web-design               ux           43   \n",
       "4073           1         17  web-design            intro           27   \n",
       "2529           1          8    appendix              git           35   \n",
       "726            1          8    appendix  further-reading           39   \n",
       "\n",
       "      total_visits  normalized_visit_count      mean       std   z_score  \n",
       "3988          3814                0.017567  0.001966  0.003403  4.584714  \n",
       "4014          3814                0.011274  0.001272  0.002255  4.436567  \n",
       "4073          3814                0.007079  0.000803  0.001418  4.424993  \n",
       "2529          1392                0.025144  0.005927  0.005151  3.730266  \n",
       "726           1392                0.028017  0.008844  0.005311  3.609806  "
      ]
     },
     "execution_count": 51,
     "metadata": {},
     "output_type": "execute_result"
    }
   ],
   "source": [
    "# Filter to identify outliers by z_score using the absolute (abs) (for this example, we use a Z-score threshold of 1.96 for a 95% confidence level)\n",
    "outliers = traffic_cohort[np.abs(traffic_cohort['z_score']) > 1.96]\n",
    "outliers = outliers.sort_values('z_score', ascending= False)\n",
    "\n",
    "outliers_cloud = outliers[(outliers['visit_count'] > 25) & (outliers['program_id'] == 1)]\n",
    "\n",
    "outliers_cloud.head(5)"
   ]
  },
  {
   "cell_type": "markdown",
   "metadata": {},
   "source": [
    "#### `Dev program`"
   ]
  },
  {
   "cell_type": "code",
   "execution_count": 30,
   "metadata": {},
   "outputs": [
    {
     "data": {
      "text/html": [
       "<div>\n",
       "<style scoped>\n",
       "    .dataframe tbody tr th:only-of-type {\n",
       "        vertical-align: middle;\n",
       "    }\n",
       "\n",
       "    .dataframe tbody tr th {\n",
       "        vertical-align: top;\n",
       "    }\n",
       "\n",
       "    .dataframe thead th {\n",
       "        text-align: right;\n",
       "    }\n",
       "</style>\n",
       "<table border=\"1\" class=\"dataframe\">\n",
       "  <thead>\n",
       "    <tr style=\"text-align: right;\">\n",
       "      <th></th>\n",
       "      <th>program_id</th>\n",
       "      <th>cohort_id</th>\n",
       "      <th>subject</th>\n",
       "      <th>lesson</th>\n",
       "      <th>visit_count</th>\n",
       "      <th>total_visits</th>\n",
       "      <th>normalized_visit_count</th>\n",
       "      <th>mean</th>\n",
       "      <th>std</th>\n",
       "      <th>z_score</th>\n",
       "    </tr>\n",
       "  </thead>\n",
       "  <tbody>\n",
       "    <tr>\n",
       "      <th>176</th>\n",
       "      <td>2</td>\n",
       "      <td>139</td>\n",
       "      <td>javascript-i</td>\n",
       "      <td>introduction</td>\n",
       "      <td>685</td>\n",
       "      <td>1532</td>\n",
       "      <td>0.447128</td>\n",
       "      <td>0.054045</td>\n",
       "      <td>0.077705</td>\n",
       "      <td>5.058633</td>\n",
       "    </tr>\n",
       "    <tr>\n",
       "      <th>66</th>\n",
       "      <td>2</td>\n",
       "      <td>138</td>\n",
       "      <td>html-css</td>\n",
       "      <td>css-ii</td>\n",
       "      <td>725</td>\n",
       "      <td>6269</td>\n",
       "      <td>0.115648</td>\n",
       "      <td>0.031012</td>\n",
       "      <td>0.019474</td>\n",
       "      <td>4.346181</td>\n",
       "    </tr>\n",
       "    <tr>\n",
       "      <th>1022</th>\n",
       "      <td>2</td>\n",
       "      <td>138</td>\n",
       "      <td>javascript-i</td>\n",
       "      <td>loops</td>\n",
       "      <td>226</td>\n",
       "      <td>6269</td>\n",
       "      <td>0.036050</td>\n",
       "      <td>0.010409</td>\n",
       "      <td>0.005936</td>\n",
       "      <td>4.319396</td>\n",
       "    </tr>\n",
       "    <tr>\n",
       "      <th>141</th>\n",
       "      <td>2</td>\n",
       "      <td>138</td>\n",
       "      <td>html-css</td>\n",
       "      <td>css-i</td>\n",
       "      <td>1019</td>\n",
       "      <td>6269</td>\n",
       "      <td>0.162546</td>\n",
       "      <td>0.043595</td>\n",
       "      <td>0.032055</td>\n",
       "      <td>3.710895</td>\n",
       "    </tr>\n",
       "    <tr>\n",
       "      <th>10</th>\n",
       "      <td>2</td>\n",
       "      <td>21</td>\n",
       "      <td>spring</td>\n",
       "      <td>fundamentals</td>\n",
       "      <td>1165</td>\n",
       "      <td>6490</td>\n",
       "      <td>0.179507</td>\n",
       "      <td>0.052399</td>\n",
       "      <td>0.034682</td>\n",
       "      <td>3.664977</td>\n",
       "    </tr>\n",
       "  </tbody>\n",
       "</table>\n",
       "</div>"
      ],
      "text/plain": [
       "      program_id  cohort_id       subject        lesson  visit_count  \\\n",
       "176            2        139  javascript-i  introduction          685   \n",
       "66             2        138      html-css        css-ii          725   \n",
       "1022           2        138  javascript-i         loops          226   \n",
       "141            2        138      html-css         css-i         1019   \n",
       "10             2         21        spring  fundamentals         1165   \n",
       "\n",
       "      total_visits  normalized_visit_count      mean       std   z_score  \n",
       "176           1532                0.447128  0.054045  0.077705  5.058633  \n",
       "66            6269                0.115648  0.031012  0.019474  4.346181  \n",
       "1022          6269                0.036050  0.010409  0.005936  4.319396  \n",
       "141           6269                0.162546  0.043595  0.032055  3.710895  \n",
       "10            6490                0.179507  0.052399  0.034682  3.664977  "
      ]
     },
     "execution_count": 30,
     "metadata": {},
     "output_type": "execute_result"
    }
   ],
   "source": [
    "outliers_dev = outliers[(outliers['visit_count'] > 200) & (outliers['program_id'] == 2)]\n",
    "\n",
    "outliers_dev.sort_values('z_score', ascending= False).head(5)"
   ]
  },
  {
   "cell_type": "markdown",
   "metadata": {},
   "source": [
    "#### `DS program`"
   ]
  },
  {
   "cell_type": "code",
   "execution_count": 39,
   "metadata": {},
   "outputs": [
    {
     "data": {
      "text/html": [
       "<div>\n",
       "<style scoped>\n",
       "    .dataframe tbody tr th:only-of-type {\n",
       "        vertical-align: middle;\n",
       "    }\n",
       "\n",
       "    .dataframe tbody tr th {\n",
       "        vertical-align: top;\n",
       "    }\n",
       "\n",
       "    .dataframe thead th {\n",
       "        text-align: right;\n",
       "    }\n",
       "</style>\n",
       "<table border=\"1\" class=\"dataframe\">\n",
       "  <thead>\n",
       "    <tr style=\"text-align: right;\">\n",
       "      <th></th>\n",
       "      <th>program_id</th>\n",
       "      <th>cohort_id</th>\n",
       "      <th>subject</th>\n",
       "      <th>lesson</th>\n",
       "      <th>visit_count</th>\n",
       "      <th>total_visits</th>\n",
       "      <th>normalized_visit_count</th>\n",
       "      <th>mean</th>\n",
       "      <th>std</th>\n",
       "      <th>z_score</th>\n",
       "    </tr>\n",
       "  </thead>\n",
       "  <tbody>\n",
       "    <tr>\n",
       "      <th>4798</th>\n",
       "      <td>3</td>\n",
       "      <td>55</td>\n",
       "      <td>3-sql</td>\n",
       "      <td>1-mysql-overview</td>\n",
       "      <td>441</td>\n",
       "      <td>17049</td>\n",
       "      <td>0.025867</td>\n",
       "      <td>0.004280</td>\n",
       "      <td>0.008032</td>\n",
       "      <td>2.687466</td>\n",
       "    </tr>\n",
       "    <tr>\n",
       "      <th>4317</th>\n",
       "      <td>3</td>\n",
       "      <td>137</td>\n",
       "      <td>fundamentals</td>\n",
       "      <td>intro-to-data-science</td>\n",
       "      <td>615</td>\n",
       "      <td>5812</td>\n",
       "      <td>0.105816</td>\n",
       "      <td>0.018614</td>\n",
       "      <td>0.034388</td>\n",
       "      <td>2.535793</td>\n",
       "    </tr>\n",
       "    <tr>\n",
       "      <th>4287</th>\n",
       "      <td>3</td>\n",
       "      <td>34</td>\n",
       "      <td>appendix</td>\n",
       "      <td>cli-git-overview</td>\n",
       "      <td>311</td>\n",
       "      <td>21325</td>\n",
       "      <td>0.014584</td>\n",
       "      <td>0.003183</td>\n",
       "      <td>0.005133</td>\n",
       "      <td>2.221147</td>\n",
       "    </tr>\n",
       "    <tr>\n",
       "      <th>3862</th>\n",
       "      <td>3</td>\n",
       "      <td>34</td>\n",
       "      <td>1-fundamentals</td>\n",
       "      <td>1.1-intro-to-data-science</td>\n",
       "      <td>640</td>\n",
       "      <td>21325</td>\n",
       "      <td>0.030012</td>\n",
       "      <td>0.007353</td>\n",
       "      <td>0.010492</td>\n",
       "      <td>2.159576</td>\n",
       "    </tr>\n",
       "    <tr>\n",
       "      <th>4266</th>\n",
       "      <td>3</td>\n",
       "      <td>55</td>\n",
       "      <td>6-regression</td>\n",
       "      <td>1-overview</td>\n",
       "      <td>595</td>\n",
       "      <td>17049</td>\n",
       "      <td>0.034899</td>\n",
       "      <td>0.007705</td>\n",
       "      <td>0.013063</td>\n",
       "      <td>2.081862</td>\n",
       "    </tr>\n",
       "  </tbody>\n",
       "</table>\n",
       "</div>"
      ],
      "text/plain": [
       "      program_id  cohort_id         subject                     lesson  \\\n",
       "4798           3         55           3-sql           1-mysql-overview   \n",
       "4317           3        137    fundamentals      intro-to-data-science   \n",
       "4287           3         34        appendix           cli-git-overview   \n",
       "3862           3         34  1-fundamentals  1.1-intro-to-data-science   \n",
       "4266           3         55    6-regression                 1-overview   \n",
       "\n",
       "      visit_count  total_visits  normalized_visit_count      mean       std  \\\n",
       "4798          441         17049                0.025867  0.004280  0.008032   \n",
       "4317          615          5812                0.105816  0.018614  0.034388   \n",
       "4287          311         21325                0.014584  0.003183  0.005133   \n",
       "3862          640         21325                0.030012  0.007353  0.010492   \n",
       "4266          595         17049                0.034899  0.007705  0.013063   \n",
       "\n",
       "       z_score  \n",
       "4798  2.687466  \n",
       "4317  2.535793  \n",
       "4287  2.221147  \n",
       "3862  2.159576  \n",
       "4266  2.081862  "
      ]
     },
     "execution_count": 39,
     "metadata": {},
     "output_type": "execute_result"
    }
   ],
   "source": [
    "outliers_ds = outliers[(outliers['visit_count'] > 200) & (outliers['program_id'] == 3)]\n",
    "\n",
    "outliers_ds.sort_values('z_score', ascending= False).head(5)"
   ]
  },
  {
   "cell_type": "code",
   "execution_count": 55,
   "metadata": {},
   "outputs": [
    {
     "data": {
      "image/png": "[encoded data removed]",
      "text/plain": [
       "<Figure size 1400x500 with 3 Axes>"
      ]
     },
     "metadata": {},
     "output_type": "display_data"
    }
   ],
   "source": [
    "# Create subplots for each program's top 5 most visited lessons using johns_barsubplot\n",
    "fig, axes = plt.subplots(1, 3, figsize=(14, 5))\n",
    "fig.suptitle('Top 5 Most Visited Lessons by Program', fontsize=14)\n",
    "\n",
    "# Flatten axes for easy iteration\n",
    "axes = axes.flatten()\n",
    "\n",
    "top_3_per_program = outliers[(outliers['visit_count'] > 25) & (outliers['program_id'] == 1)].head()\n",
    "ax = axes[0]\n",
    "vis.horizontal_johns_barsubplot(ax, x='visit_count', y='lesson', data=top_3_per_program, \n",
    "                    title=f'Program: {program_id}', ylabel='', single_color='#1f77b4', y_label_rotation=0, sort_data=False)\n",
    "\n",
    "top_3_per_program = outliers[(outliers['visit_count'] > 200) & (outliers['program_id'] == 2)].head()\n",
    "ax = axes[1]\n",
    "vis.horizontal_johns_barsubplot(ax, x='visit_count', y='lesson', data=top_3_per_program, \n",
    "                    title=f'Program: {program_id}', ylabel='', single_color='#1f77b4', y_label_rotation=0, sort_data=False)\n",
    "\n",
    "top_3_per_program = outliers[(outliers['visit_count'] > 200) & (outliers['program_id'] == 3)].head()\n",
    "ax = axes[2]\n",
    "vis.horizontal_johns_barsubplot(ax, x='visit_count', y='lesson', data=top_3_per_program, \n",
    "                    title=f'Program: {program_id}', ylabel='', single_color='#1f77b4', y_label_rotation=0, sort_data=False)\n",
    "\n",
    "plt.tight_layout(rect=[0, 0.03, 1, 0.95])\n",
    "plt.show()"
   ]
  },
  {
   "cell_type": "markdown",
   "metadata": {},
   "source": [
    "It does seem that each cohort varies in number of accesses. There is nothing too out of the ordinary for any specific cohort. "
   ]
  },
  {
   "cell_type": "markdown",
   "metadata": {
    "tags": []
   },
   "source": [
    "### 3. Are there students who, when active, hardly access the curriculum? If so, what information do you have about these students?"
   ]
  },
  {
   "cell_type": "code",
   "execution_count": 23,
   "metadata": {},
   "outputs": [
    {
     "data": {
      "text/plain": [
       "911"
      ]
     },
     "execution_count": 23,
     "metadata": {},
     "output_type": "execute_result"
    }
   ],
   "source": [
    "df1.user_id.nunique()  # Identify number of unique users"
   ]
  },
  {
   "cell_type": "markdown",
   "metadata": {},
   "source": [
    "There are 911 unique users"
   ]
  },
  {
   "cell_type": "code",
   "execution_count": 24,
   "metadata": {},
   "outputs": [],
   "source": [
    "# Use groupby to count how many times each user_id accessed the curriculum\n",
    "# Use 'Active' in activity column to only see students who are active\n",
    "least_active = df1[df1.activity == 'Active'].groupby('user_id').path.count().sort_values()"
   ]
  },
  {
   "cell_type": "code",
   "execution_count": 25,
   "metadata": {},
   "outputs": [
    {
     "data": {
      "text/html": [
       "<div>\n",
       "<style scoped>\n",
       "    .dataframe tbody tr th:only-of-type {\n",
       "        vertical-align: middle;\n",
       "    }\n",
       "\n",
       "    .dataframe tbody tr th {\n",
       "        vertical-align: top;\n",
       "    }\n",
       "\n",
       "    .dataframe thead th {\n",
       "        text-align: right;\n",
       "    }\n",
       "</style>\n",
       "<table border=\"1\" class=\"dataframe\">\n",
       "  <thead>\n",
       "    <tr style=\"text-align: right;\">\n",
       "      <th></th>\n",
       "      <th>date</th>\n",
       "      <th>path</th>\n",
       "      <th>user_id</th>\n",
       "      <th>cohort_id</th>\n",
       "      <th>ip</th>\n",
       "      <th>name</th>\n",
       "      <th>slack</th>\n",
       "      <th>start_date</th>\n",
       "      <th>end_date</th>\n",
       "      <th>program_id</th>\n",
       "      <th>activity</th>\n",
       "    </tr>\n",
       "  </thead>\n",
       "  <tbody>\n",
       "    <tr>\n",
       "      <th>847371</th>\n",
       "      <td>2021-03-15 16:59:56</td>\n",
       "      <td>/</td>\n",
       "      <td>918</td>\n",
       "      <td>138</td>\n",
       "      <td>71.221.46.112</td>\n",
       "      <td>Neptune</td>\n",
       "      <td>#neptune</td>\n",
       "      <td>2021-03-15</td>\n",
       "      <td>2021-09-03</td>\n",
       "      <td>2</td>\n",
       "      <td>Active</td>\n",
       "    </tr>\n",
       "  </tbody>\n",
       "</table>\n",
       "</div>"
      ],
      "text/plain": [
       "                      date path  user_id  cohort_id             ip     name  \\\n",
       "847371 2021-03-15 16:59:56    /      918        138  71.221.46.112  Neptune   \n",
       "\n",
       "           slack start_date   end_date  program_id activity  \n",
       "847371  #neptune 2021-03-15 2021-09-03           2   Active  "
      ]
     },
     "execution_count": 25,
     "metadata": {},
     "output_type": "execute_result"
    }
   ],
   "source": [
    "df1[df1.user_id == least_active.index[0]]"
   ]
  },
  {
   "cell_type": "markdown",
   "metadata": {},
   "source": [
    "We can access any information we want from each student user_id. For example ^ one of the least active student accessed the curriculum one singular time and he/she only viewed the home page. He/she was part of cohort 138  and program 2"
   ]
  },
  {
   "cell_type": "markdown",
   "metadata": {},
   "source": [
    "### 4. Is there any suspicious activity, such as users/machines/etc accessing the curriculum who shouldn’t be? Does it appear that any web-scraping is happening? Are there any suspicious IP addresses?"
   ]
  },
  {
   "cell_type": "code",
   "execution_count": 26,
   "metadata": {},
   "outputs": [],
   "source": [
    "# Fill all nulls in cohot id with 0\n",
    "df.cohort_id = df.cohort_id.fillna(0)"
   ]
  },
  {
   "cell_type": "code",
   "execution_count": 27,
   "metadata": {},
   "outputs": [
    {
     "data": {
      "text/plain": [
       "97.105.19.58       284579\n",
       "97.105.19.61        61661\n",
       "192.171.117.210      9515\n",
       "71.150.217.33        6791\n",
       "76.185.145.231       4754\n",
       "12.106.208.194       4360\n",
       "67.11.50.23          4181\n",
       "70.112.179.142       4117\n",
       "70.121.183.95        3843\n",
       "172.124.67.93        3511\n",
       "Name: ip, dtype: int64"
      ]
     },
     "execution_count": 27,
     "metadata": {},
     "output_type": "execute_result"
    }
   ],
   "source": [
    "df.ip.value_counts()[:10]  # Check top used ips"
   ]
  },
  {
   "cell_type": "code",
   "execution_count": 28,
   "metadata": {},
   "outputs": [],
   "source": [
    "# Create df with only the missing cohort ids\n",
    "unk = df[df.cohort_id == 0]\n",
    "unk.index = unk.date\n",
    "unk_avg = unk.resample('w').count()"
   ]
  },
  {
   "cell_type": "markdown",
   "metadata": {
    "tags": []
   },
   "source": [
    "There are two ips accessing the curriculum an extraordinary amount of times"
   ]
  },
  {
   "cell_type": "code",
   "execution_count": 29,
   "metadata": {},
   "outputs": [],
   "source": [
    "# Create avg group that excludes the top 2 ips\n",
    "avg = df.copy()\n",
    "avg = avg[ (avg.ip != '97.105.19.58') & (avg.ip != '97.105.19.61') ]\n",
    "avg.index = avg.date\n",
    "week_avg = avg.resample('w').count()"
   ]
  },
  {
   "cell_type": "code",
   "execution_count": 30,
   "metadata": {},
   "outputs": [],
   "source": [
    "# Create two df of the suspicious ips\n",
    "sus1 = df1[(df1.ip == '97.105.19.58')]\n",
    "sus2 = df1[(df1.ip == '97.105.19.61')]\n",
    "\n",
    "sus1.index = sus1.date\n",
    "sus2.index = sus2.date\n",
    "\n",
    "week_sus1 = sus1.resample('w').count()\n",
    "week_sus2 = sus2.resample('w').count()"
   ]
  },
  {
   "cell_type": "code",
   "execution_count": 31,
   "metadata": {},
   "outputs": [
    {
     "data": {
      "image/png": "[encoded data removed]",
      "text/plain": [
       "<Figure size 1200x800 with 1 Axes>"
      ]
     },
     "metadata": {},
     "output_type": "display_data"
    }
   ],
   "source": [
    "plt.figure(figsize=(12,8))\n",
    "sns.lineplot(week_sus1.path, label='Suspicious ip 1')\n",
    "sns.lineplot(week_sus2.path, label='Suspicious ip 2')\n",
    "sns.lineplot(week_avg.path, label='Avg')\n",
    "sns.lineplot(unk_avg.path, label='Unknown cohort')\n",
    "plt.legend()\n",
    "plt.ylabel('Accesses per week')\n",
    "plt.title('Number of weekly accesses over time')\n",
    "plt.show()"
   ]
  },
  {
   "cell_type": "code",
   "execution_count": 32,
   "metadata": {},
   "outputs": [
    {
     "data": {
      "text/plain": [
       "97.105.19.58     15931\n",
       "70.117.16.60      1903\n",
       "67.11.117.74      1729\n",
       "70.94.165.107     1715\n",
       "23.116.170.48     1616\n",
       "Name: ip, dtype: int64"
      ]
     },
     "execution_count": 32,
     "metadata": {},
     "output_type": "execute_result"
    }
   ],
   "source": [
    "unk.ip.value_counts()[:5]"
   ]
  },
  {
   "cell_type": "code",
   "execution_count": 33,
   "metadata": {},
   "outputs": [
    {
     "data": {
      "text/plain": [
       "/                           4459\n",
       "search/search_index.json    1985\n",
       "javascript-i                 780\n",
       "toc                          706\n",
       "spring                       641\n",
       "Name: path, dtype: int64"
      ]
     },
     "execution_count": 33,
     "metadata": {},
     "output_type": "execute_result"
    }
   ],
   "source": [
    "unk.path.value_counts()[:5]"
   ]
  },
  {
   "cell_type": "code",
   "execution_count": 34,
   "metadata": {},
   "outputs": [
    {
     "data": {
      "text/plain": [
       "78"
      ]
     },
     "execution_count": 34,
     "metadata": {},
     "output_type": "execute_result"
    }
   ],
   "source": [
    "unk.user_id.nunique()"
   ]
  },
  {
   "cell_type": "code",
   "execution_count": 35,
   "metadata": {},
   "outputs": [
    {
     "data": {
      "text/plain": [
       "354    2965\n",
       "736    2358\n",
       "363    2248\n",
       "716    2136\n",
       "368    2085\n",
       "Name: user_id, dtype: int64"
      ]
     },
     "execution_count": 35,
     "metadata": {},
     "output_type": "execute_result"
    }
   ],
   "source": [
    "unk.user_id.value_counts()[:5]"
   ]
  },
  {
   "cell_type": "markdown",
   "metadata": {},
   "source": [
    "There does not seem to be anything abnormal at first glance. There are two ips with a huge number of accesses but these are likely the CodeUp wifi that is shared by all students in class. These ips disappear when covid strikes and everyone has to do remote learning on their own homes and the avg of other ips rises. The unknown cohorts dont have anything alarming at first sight. It seems that there was a cohort at some point that their cohort id was not registered. This happens twice."
   ]
  },
  {
   "cell_type": "markdown",
   "metadata": {},
   "source": [
    "### 5. At some point in 2019, the ability for students and alumni to access both curricula (web dev to ds, ds to web dev) should have been shut off. Do you see any evidence of that happening? Did it happen before?"
   ]
  },
  {
   "cell_type": "code",
   "execution_count": null,
   "metadata": {},
   "outputs": [],
   "source": []
  },
  {
   "cell_type": "markdown",
   "metadata": {},
   "source": [
    "### 6. What topics are grads continuing to reference after graduation and into their jobs (for each program)?"
   ]
  },
  {
   "cell_type": "code",
   "execution_count": 36,
   "metadata": {},
   "outputs": [
    {
     "data": {
      "text/plain": [
       "0"
      ]
     },
     "execution_count": 36,
     "metadata": {},
     "output_type": "execute_result"
    }
   ],
   "source": [
    "# Check if all access dates are after start dates\n",
    "(df1.date < df1.start_date).sum()"
   ]
  },
  {
   "cell_type": "code",
   "execution_count": 37,
   "metadata": {},
   "outputs": [],
   "source": [
    "# Filter by ativity, to see students that accessed the curriculum after graduating\n",
    "grads = df1[df1.activity == 'Inactive']"
   ]
  },
  {
   "cell_type": "code",
   "execution_count": 38,
   "metadata": {},
   "outputs": [],
   "source": [
    "# Filter away home page and .json files\n",
    "dot = grads.path.str.contains('.json')\n",
    "slash = grads.path != '/'\n",
    "n_dot = [not elem for elem in dot]\n",
    "grads = grads[n_dot & slash]"
   ]
  },
  {
   "cell_type": "code",
   "execution_count": 39,
   "metadata": {},
   "outputs": [
    {
     "name": "stdout",
     "output_type": "stream",
     "text": [
      "Program id: 1\n",
      "index.html      1011\n",
      "javascript-i     736\n",
      "html-css         542\n",
      "Name: path, dtype: int64\n",
      "\n",
      "\n",
      "Program id: 2\n",
      "javascript-i    4233\n",
      "spring          3771\n",
      "html-css        3145\n",
      "Name: path, dtype: int64\n",
      "\n",
      "\n",
      "Program id: 4\n",
      "content/html-css                               2\n",
      "content/html-css/gitbook/images/favicon.ico    1\n",
      "content/html-css/introduction.html             1\n",
      "Name: path, dtype: int64\n",
      "\n",
      "\n",
      "Program id: 3\n",
      "sql/mysql-overview                          275\n",
      "classification/overview                     267\n",
      "classification/scale_features_or_not.svg    220\n",
      "Name: path, dtype: int64\n",
      "\n",
      "\n"
     ]
    }
   ],
   "source": [
    "# Loop through most accessed lessons\n",
    "for program in ids:\n",
    "    print(f'Program id: {program}')\n",
    "    print(grads[grads.program_id == program].path.value_counts()[:3])\n",
    "    print()\n",
    "    print()"
   ]
  },
  {
   "cell_type": "markdown",
   "metadata": {},
   "source": [
    "Some of the most accessed lesson by students post graduation are:\n",
    "* javascript-i\n",
    "* spring\n",
    "* content/html-css\n",
    "* sql/mysql-overview"
   ]
  },
  {
   "cell_type": "markdown",
   "metadata": {},
   "source": [
    "### 7. Which lessons are least accessed?"
   ]
  },
  {
   "cell_type": "code",
   "execution_count": 40,
   "metadata": {},
   "outputs": [
    {
     "name": "stdout",
     "output_type": "stream",
     "text": [
      "Program id: 1\n",
      "ajax-api-request.html                             1\n",
      "2.00.05_Charts_PivotTables_Sparklines             1\n",
      "2.00.02_Navigating_Excel                          1\n",
      "student/create                                    1\n",
      "content/examples/constructors-destructors.html    1\n",
      "student                                           1\n",
      "html-css/media-queries                            1\n",
      "php                                               1\n",
      "mysql/jdbc-statements                             1\n",
      "mysql/intro-jdbc                                  1\n",
      "Name: path, dtype: int64\n",
      "\n",
      "\n",
      "Program id: 2\n",
      "appendix/professional-development/post-interview-review-form    1\n",
      "cli-03-file-paths                                               1\n",
      "cli-07-more-topics                                              1\n",
      "spring/services                                                 1\n",
      "spring/security                                                 1\n",
      "8-timeseries/1-overview                                         1\n",
      "8-timeseries/2-intro-to-timeseries                              1\n",
      "8-timeseries/3-acquire                                          1\n",
      "8-timeseries/4-prep                                             1\n",
      "8-timeseries/6.1-parametric-modeling                            1\n",
      "Name: path, dtype: int64\n",
      "\n",
      "\n",
      "Program id: 4\n",
      "content/html-css/gitbook/images/favicon.ico    1\n",
      "content/html-css/introduction.html             1\n",
      "content/html-css                               2\n",
      "Name: path, dtype: int64\n",
      "\n",
      "\n",
      "Program id: 3\n",
      "2-storytelling/1-overview/www.qlik.com    1\n",
      "database-design                           1\n",
      "stats-assessment                          1\n",
      "curie-statistics-assessment               1\n",
      "9-timeseries/6.1-parametric-modeling      1\n",
      "understand                                1\n",
      "4.2-compare-means                         1\n",
      "python/introduction-to-python.md          1\n",
      "creating-charts                           1\n",
      "storytelling/creating-custom-fields.md    1\n",
      "Name: path, dtype: int64\n",
      "\n",
      "\n"
     ]
    }
   ],
   "source": [
    "for program in ids:\n",
    "    print(f'Program id: {program}')\n",
    "    print(clean_df[clean_df.program_id == program].path.value_counts(ascending=True)[:10])\n",
    "    print()\n",
    "    print()"
   ]
  },
  {
   "cell_type": "markdown",
   "metadata": {},
   "source": [
    "### 8. Anything else I should be aware of?"
   ]
  }
 ],
 "metadata": {
  "kernelspec": {
   "display_name": "Python 3 (ipykernel)",
   "language": "python",
   "name": "python3"
  },
  "language_info": {
   "codemirror_mode": {
    "name": "ipython",
    "version": 3
   },
   "file_extension": ".py",
   "mimetype": "text/x-python",
   "name": "python",
   "nbconvert_exporter": "python",
   "pygments_lexer": "ipython3",
   "version": "3.10.12"
  }
 },
 "nbformat": 4,
 "nbformat_minor": 4
}
