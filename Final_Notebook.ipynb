{
 "cells": [
  {
   "cell_type": "markdown",
   "metadata": {},
   "source": [
    "# Anomaly detection"
   ]
  },
  {
   "cell_type": "markdown",
   "metadata": {},
   "source": [
    "In this project we set out to answer some questions regarding the access logs of the CodeUp curriculum"
   ]
  },
  {
   "cell_type": "markdown",
   "metadata": {},
   "source": [
    "## Imports"
   ]
  },
  {
   "cell_type": "markdown",
   "metadata": {},
   "source": [
    "These are the necessary imports for the project "
   ]
  },
  {
   "cell_type": "code",
   "execution_count": 1,
   "metadata": {},
   "outputs": [],
   "source": [
    "# Append path to import .py file outside directory\n",
    "import sys\n",
    "sys.path.append('/Users/nickolaspedrimiranda/CodeUp/curriculum')"
   ]
  },
  {
   "cell_type": "code",
   "execution_count": 21,
   "metadata": {},
   "outputs": [
    {
     "ename": "ModuleNotFoundError",
     "evalue": "No module named 'johns_visual'",
     "output_type": "error",
     "traceback": [
      "\u001b[0;31m---------------------------------------------------------------------------\u001b[0m",
      "\u001b[0;31mModuleNotFoundError\u001b[0m                       Traceback (most recent call last)",
      "\u001b[1;32m/Users/jongarcia/codeup-data-science/curriculum/Final_Notebook.ipynb Cell 6\u001b[0m line \u001b[0;36m1\n\u001b[1;32m     <a href='vscode-notebook-cell:/Users/jongarcia/codeup-data-science/curriculum/Final_Notebook.ipynb#W5sZmlsZQ%3D%3D?line=9'>10</a>\u001b[0m \u001b[39m# Set the working directory to the directory containing your notebook\u001b[39;00m\n\u001b[1;32m     <a href='vscode-notebook-cell:/Users/jongarcia/codeup-data-science/curriculum/Final_Notebook.ipynb#W5sZmlsZQ%3D%3D?line=10'>11</a>\u001b[0m os\u001b[39m.\u001b[39mchdir(\u001b[39m'\u001b[39m\u001b[39m/Users/jongarcia/codeup-data-science/curriculum\u001b[39m\u001b[39m'\u001b[39m)\n\u001b[0;32m---> <a href='vscode-notebook-cell:/Users/jongarcia/codeup-data-science/curriculum/Final_Notebook.ipynb#W5sZmlsZQ%3D%3D?line=12'>13</a>\u001b[0m \u001b[39mimport\u001b[39;00m \u001b[39mjohns_visual\u001b[39;00m \u001b[39mas\u001b[39;00m \u001b[39mvis\u001b[39;00m\n",
      "\u001b[0;31mModuleNotFoundError\u001b[0m: No module named 'johns_visual'"
     ]
    }
   ],
   "source": [
    "# DS imports\n",
    "import pandas as pd\n",
    "import numpy as np\n",
    "\n",
    "# Visual imports\n",
    "import seaborn as sns\n",
    "import matplotlib.pyplot as plt\n",
    "\n",
    "import os\n",
    "# Set the working directory to the directory containing your notebook\n",
    "os.chdir('/Users/jongarcia/codeup-data-science/curriculum')\n",
    "\n",
    "import johns_visual as vis\n"
   ]
  },
  {
   "cell_type": "markdown",
   "metadata": {},
   "source": [
    "## Acquire"
   ]
  },
  {
   "cell_type": "markdown",
   "metadata": {},
   "source": [
    "To acquire we simply read in the data from a .csv file"
   ]
  },
  {
   "cell_type": "code",
   "execution_count": 3,
   "metadata": {},
   "outputs": [],
   "source": [
    "# Read .csv from main directory\n",
    "df = pd.read_csv('anonymized-curriculum-access.txt', sep=' ')\n",
    "\n",
    "cohort = pd.read_csv('cohorts.csv')"
   ]
  },
  {
   "cell_type": "markdown",
   "metadata": {},
   "source": [
    "## Prepare"
   ]
  },
  {
   "cell_type": "markdown",
   "metadata": {},
   "source": [
    "Data preparation will simply be dropping a few columns and renaming them and filling a few nulls"
   ]
  },
  {
   "cell_type": "code",
   "execution_count": 4,
   "metadata": {},
   "outputs": [
    {
     "data": {
      "text/html": [
       "<div>\n",
       "<style scoped>\n",
       "    .dataframe tbody tr th:only-of-type {\n",
       "        vertical-align: middle;\n",
       "    }\n",
       "\n",
       "    .dataframe tbody tr th {\n",
       "        vertical-align: top;\n",
       "    }\n",
       "\n",
       "    .dataframe thead th {\n",
       "        text-align: right;\n",
       "    }\n",
       "</style>\n",
       "<table border=\"1\" class=\"dataframe\">\n",
       "  <thead>\n",
       "    <tr style=\"text-align: right;\">\n",
       "      <th></th>\n",
       "      <th>date</th>\n",
       "      <th>path</th>\n",
       "      <th>user_id</th>\n",
       "      <th>cohort_id</th>\n",
       "      <th>ip</th>\n",
       "      <th>name</th>\n",
       "      <th>slack</th>\n",
       "      <th>start_date</th>\n",
       "      <th>end_date</th>\n",
       "      <th>program_id</th>\n",
       "    </tr>\n",
       "  </thead>\n",
       "  <tbody>\n",
       "    <tr>\n",
       "      <th>0</th>\n",
       "      <td>2018-01-26 09:56:02</td>\n",
       "      <td>java-ii</td>\n",
       "      <td>1</td>\n",
       "      <td>8.0</td>\n",
       "      <td>97.105.19.61</td>\n",
       "      <td>Hampton</td>\n",
       "      <td>#hampton</td>\n",
       "      <td>2015-09-22</td>\n",
       "      <td>2016-02-06</td>\n",
       "      <td>1.0</td>\n",
       "    </tr>\n",
       "    <tr>\n",
       "      <th>1</th>\n",
       "      <td>2018-01-26 09:56:05</td>\n",
       "      <td>java-ii/object-oriented-programming</td>\n",
       "      <td>1</td>\n",
       "      <td>8.0</td>\n",
       "      <td>97.105.19.61</td>\n",
       "      <td>Hampton</td>\n",
       "      <td>#hampton</td>\n",
       "      <td>2015-09-22</td>\n",
       "      <td>2016-02-06</td>\n",
       "      <td>1.0</td>\n",
       "    </tr>\n",
       "    <tr>\n",
       "      <th>2</th>\n",
       "      <td>2018-01-26 09:56:06</td>\n",
       "      <td>slides/object_oriented_programming</td>\n",
       "      <td>1</td>\n",
       "      <td>8.0</td>\n",
       "      <td>97.105.19.61</td>\n",
       "      <td>Hampton</td>\n",
       "      <td>#hampton</td>\n",
       "      <td>2015-09-22</td>\n",
       "      <td>2016-02-06</td>\n",
       "      <td>1.0</td>\n",
       "    </tr>\n",
       "  </tbody>\n",
       "</table>\n",
       "</div>"
      ],
      "text/plain": [
       "                 date                                 path  user_id  \\\n",
       "0 2018-01-26 09:56:02                              java-ii        1   \n",
       "1 2018-01-26 09:56:05  java-ii/object-oriented-programming        1   \n",
       "2 2018-01-26 09:56:06   slides/object_oriented_programming        1   \n",
       "\n",
       "   cohort_id            ip     name     slack start_date   end_date  \\\n",
       "0        8.0  97.105.19.61  Hampton  #hampton 2015-09-22 2016-02-06   \n",
       "1        8.0  97.105.19.61  Hampton  #hampton 2015-09-22 2016-02-06   \n",
       "2        8.0  97.105.19.61  Hampton  #hampton 2015-09-22 2016-02-06   \n",
       "\n",
       "   program_id  \n",
       "0         1.0  \n",
       "1         1.0  \n",
       "2         1.0  "
      ]
     },
     "execution_count": 4,
     "metadata": {},
     "output_type": "execute_result"
    }
   ],
   "source": [
    "# Rename columns\n",
    "names = {'2018-01-26':'date', '09:55:03':'time', '/':'path', '1':'user_id', '8':'cohort_id', '97.105.19.61':'ip'}\n",
    "\n",
    "df = df.rename(columns=names)\n",
    "\n",
    "# Merge tables\n",
    "df = df.merge(cohort, how='left', left_on='cohort_id', right_on='id')\n",
    "\n",
    "# Drop path nulls\n",
    "df= df[df.path.notna()]\n",
    "\n",
    "# Convert to datetime\n",
    "df['date'] = df.date + ' ' + df.time\n",
    "df.date = pd.to_datetime(df.date)\n",
    "df.start_date = pd.to_datetime(df.start_date)\n",
    "df.end_date = pd.to_datetime(df.end_date)\n",
    "\n",
    "# Drop useless data\n",
    "df = df.drop(columns=['deleted_at', 'time','id', 'created_at', 'updated_at'])\n",
    "\n",
    "df.head(3)"
   ]
  },
  {
   "cell_type": "code",
   "execution_count": 5,
   "metadata": {},
   "outputs": [
    {
     "data": {
      "text/plain": [
       "date              0\n",
       "path              0\n",
       "user_id           0\n",
       "cohort_id     52893\n",
       "ip                0\n",
       "name          52893\n",
       "slack         52893\n",
       "start_date    52893\n",
       "end_date      52893\n",
       "program_id    52893\n",
       "dtype: int64"
      ]
     },
     "execution_count": 5,
     "metadata": {},
     "output_type": "execute_result"
    }
   ],
   "source": [
    "df.isna().sum()  # Check for nulls"
   ]
  },
  {
   "cell_type": "code",
   "execution_count": 6,
   "metadata": {},
   "outputs": [],
   "source": [
    "# Create separate df without nulls\n",
    "df1 = df[df.cohort_id.notnull()]\n",
    "\n",
    "df1 = df1.dropna()\n",
    "\n",
    "df1.cohort_id = df1.cohort_id.astype(int)\n",
    "df1.program_id = df1.program_id.astype(int)"
   ]
  },
  {
   "cell_type": "code",
   "execution_count": 7,
   "metadata": {},
   "outputs": [
    {
     "data": {
      "text/html": [
       "<div>\n",
       "<style scoped>\n",
       "    .dataframe tbody tr th:only-of-type {\n",
       "        vertical-align: middle;\n",
       "    }\n",
       "\n",
       "    .dataframe tbody tr th {\n",
       "        vertical-align: top;\n",
       "    }\n",
       "\n",
       "    .dataframe thead th {\n",
       "        text-align: right;\n",
       "    }\n",
       "</style>\n",
       "<table border=\"1\" class=\"dataframe\">\n",
       "  <thead>\n",
       "    <tr style=\"text-align: right;\">\n",
       "      <th></th>\n",
       "      <th>date</th>\n",
       "      <th>path</th>\n",
       "      <th>user_id</th>\n",
       "      <th>cohort_id</th>\n",
       "      <th>ip</th>\n",
       "      <th>name</th>\n",
       "      <th>slack</th>\n",
       "      <th>start_date</th>\n",
       "      <th>end_date</th>\n",
       "      <th>program_id</th>\n",
       "    </tr>\n",
       "  </thead>\n",
       "  <tbody>\n",
       "    <tr>\n",
       "      <th>0</th>\n",
       "      <td>2018-01-26 09:56:02</td>\n",
       "      <td>java-ii</td>\n",
       "      <td>1</td>\n",
       "      <td>8</td>\n",
       "      <td>97.105.19.61</td>\n",
       "      <td>Hampton</td>\n",
       "      <td>#hampton</td>\n",
       "      <td>2015-09-22</td>\n",
       "      <td>2016-02-06</td>\n",
       "      <td>1</td>\n",
       "    </tr>\n",
       "    <tr>\n",
       "      <th>1</th>\n",
       "      <td>2018-01-26 09:56:05</td>\n",
       "      <td>java-ii/object-oriented-programming</td>\n",
       "      <td>1</td>\n",
       "      <td>8</td>\n",
       "      <td>97.105.19.61</td>\n",
       "      <td>Hampton</td>\n",
       "      <td>#hampton</td>\n",
       "      <td>2015-09-22</td>\n",
       "      <td>2016-02-06</td>\n",
       "      <td>1</td>\n",
       "    </tr>\n",
       "    <tr>\n",
       "      <th>2</th>\n",
       "      <td>2018-01-26 09:56:06</td>\n",
       "      <td>slides/object_oriented_programming</td>\n",
       "      <td>1</td>\n",
       "      <td>8</td>\n",
       "      <td>97.105.19.61</td>\n",
       "      <td>Hampton</td>\n",
       "      <td>#hampton</td>\n",
       "      <td>2015-09-22</td>\n",
       "      <td>2016-02-06</td>\n",
       "      <td>1</td>\n",
       "    </tr>\n",
       "  </tbody>\n",
       "</table>\n",
       "</div>"
      ],
      "text/plain": [
       "                 date                                 path  user_id  \\\n",
       "0 2018-01-26 09:56:02                              java-ii        1   \n",
       "1 2018-01-26 09:56:05  java-ii/object-oriented-programming        1   \n",
       "2 2018-01-26 09:56:06   slides/object_oriented_programming        1   \n",
       "\n",
       "   cohort_id            ip     name     slack start_date   end_date  \\\n",
       "0          8  97.105.19.61  Hampton  #hampton 2015-09-22 2016-02-06   \n",
       "1          8  97.105.19.61  Hampton  #hampton 2015-09-22 2016-02-06   \n",
       "2          8  97.105.19.61  Hampton  #hampton 2015-09-22 2016-02-06   \n",
       "\n",
       "   program_id  \n",
       "0           1  \n",
       "1           1  \n",
       "2           1  "
      ]
     },
     "execution_count": 7,
     "metadata": {},
     "output_type": "execute_result"
    }
   ],
   "source": [
    "df1.head(3)"
   ]
  },
  {
   "cell_type": "code",
   "execution_count": 8,
   "metadata": {},
   "outputs": [],
   "source": [
    "# Create column that specifies if page was accessed when student was still in the cohort or not\n",
    "activity = []\n",
    "for (s,c,e) in zip(df1.start_date, df1.date, df1.end_date):\n",
    "    if s <= c <= e:\n",
    "        activity.append('Active')\n",
    "    else:\n",
    "        activity.append('Inactive')"
   ]
  },
  {
   "cell_type": "code",
   "execution_count": 9,
   "metadata": {},
   "outputs": [],
   "source": [
    "df1['activity']= activity"
   ]
  },
  {
   "cell_type": "code",
   "execution_count": 10,
   "metadata": {},
   "outputs": [
    {
     "data": {
      "text/html": [
       "<div>\n",
       "<style scoped>\n",
       "    .dataframe tbody tr th:only-of-type {\n",
       "        vertical-align: middle;\n",
       "    }\n",
       "\n",
       "    .dataframe tbody tr th {\n",
       "        vertical-align: top;\n",
       "    }\n",
       "\n",
       "    .dataframe thead th {\n",
       "        text-align: right;\n",
       "    }\n",
       "</style>\n",
       "<table border=\"1\" class=\"dataframe\">\n",
       "  <thead>\n",
       "    <tr style=\"text-align: right;\">\n",
       "      <th></th>\n",
       "      <th>date</th>\n",
       "      <th>path</th>\n",
       "      <th>user_id</th>\n",
       "      <th>cohort_id</th>\n",
       "      <th>ip</th>\n",
       "      <th>name</th>\n",
       "      <th>slack</th>\n",
       "      <th>start_date</th>\n",
       "      <th>end_date</th>\n",
       "      <th>program_id</th>\n",
       "      <th>activity</th>\n",
       "    </tr>\n",
       "  </thead>\n",
       "  <tbody>\n",
       "    <tr>\n",
       "      <th>0</th>\n",
       "      <td>2018-01-26 09:56:02</td>\n",
       "      <td>java-ii</td>\n",
       "      <td>1</td>\n",
       "      <td>8</td>\n",
       "      <td>97.105.19.61</td>\n",
       "      <td>Hampton</td>\n",
       "      <td>#hampton</td>\n",
       "      <td>2015-09-22</td>\n",
       "      <td>2016-02-06</td>\n",
       "      <td>1</td>\n",
       "      <td>Inactive</td>\n",
       "    </tr>\n",
       "    <tr>\n",
       "      <th>1</th>\n",
       "      <td>2018-01-26 09:56:05</td>\n",
       "      <td>java-ii/object-oriented-programming</td>\n",
       "      <td>1</td>\n",
       "      <td>8</td>\n",
       "      <td>97.105.19.61</td>\n",
       "      <td>Hampton</td>\n",
       "      <td>#hampton</td>\n",
       "      <td>2015-09-22</td>\n",
       "      <td>2016-02-06</td>\n",
       "      <td>1</td>\n",
       "      <td>Inactive</td>\n",
       "    </tr>\n",
       "    <tr>\n",
       "      <th>2</th>\n",
       "      <td>2018-01-26 09:56:06</td>\n",
       "      <td>slides/object_oriented_programming</td>\n",
       "      <td>1</td>\n",
       "      <td>8</td>\n",
       "      <td>97.105.19.61</td>\n",
       "      <td>Hampton</td>\n",
       "      <td>#hampton</td>\n",
       "      <td>2015-09-22</td>\n",
       "      <td>2016-02-06</td>\n",
       "      <td>1</td>\n",
       "      <td>Inactive</td>\n",
       "    </tr>\n",
       "    <tr>\n",
       "      <th>3</th>\n",
       "      <td>2018-01-26 09:56:24</td>\n",
       "      <td>javascript-i/conditionals</td>\n",
       "      <td>2</td>\n",
       "      <td>22</td>\n",
       "      <td>97.105.19.61</td>\n",
       "      <td>Teddy</td>\n",
       "      <td>#teddy</td>\n",
       "      <td>2018-01-08</td>\n",
       "      <td>2018-05-17</td>\n",
       "      <td>2</td>\n",
       "      <td>Active</td>\n",
       "    </tr>\n",
       "    <tr>\n",
       "      <th>4</th>\n",
       "      <td>2018-01-26 09:56:41</td>\n",
       "      <td>javascript-i/loops</td>\n",
       "      <td>2</td>\n",
       "      <td>22</td>\n",
       "      <td>97.105.19.61</td>\n",
       "      <td>Teddy</td>\n",
       "      <td>#teddy</td>\n",
       "      <td>2018-01-08</td>\n",
       "      <td>2018-05-17</td>\n",
       "      <td>2</td>\n",
       "      <td>Active</td>\n",
       "    </tr>\n",
       "  </tbody>\n",
       "</table>\n",
       "</div>"
      ],
      "text/plain": [
       "                 date                                 path  user_id  \\\n",
       "0 2018-01-26 09:56:02                              java-ii        1   \n",
       "1 2018-01-26 09:56:05  java-ii/object-oriented-programming        1   \n",
       "2 2018-01-26 09:56:06   slides/object_oriented_programming        1   \n",
       "3 2018-01-26 09:56:24            javascript-i/conditionals        2   \n",
       "4 2018-01-26 09:56:41                   javascript-i/loops        2   \n",
       "\n",
       "   cohort_id            ip     name     slack start_date   end_date  \\\n",
       "0          8  97.105.19.61  Hampton  #hampton 2015-09-22 2016-02-06   \n",
       "1          8  97.105.19.61  Hampton  #hampton 2015-09-22 2016-02-06   \n",
       "2          8  97.105.19.61  Hampton  #hampton 2015-09-22 2016-02-06   \n",
       "3         22  97.105.19.61    Teddy    #teddy 2018-01-08 2018-05-17   \n",
       "4         22  97.105.19.61    Teddy    #teddy 2018-01-08 2018-05-17   \n",
       "\n",
       "   program_id  activity  \n",
       "0           1  Inactive  \n",
       "1           1  Inactive  \n",
       "2           1  Inactive  \n",
       "3           2    Active  \n",
       "4           2    Active  "
      ]
     },
     "execution_count": 10,
     "metadata": {},
     "output_type": "execute_result"
    }
   ],
   "source": [
    "df1.head()"
   ]
  },
  {
   "cell_type": "markdown",
   "metadata": {},
   "source": [
    "## Questions"
   ]
  },
  {
   "cell_type": "markdown",
   "metadata": {
    "tags": []
   },
   "source": [
    "### 1. Which lesson appears to attract the most traffic consistently across cohorts (per program)?"
   ]
  },
  {
   "cell_type": "code",
   "execution_count": 11,
   "metadata": {},
   "outputs": [],
   "source": [
    "df_john =pd.read_csv('df.csv')"
   ]
  },
  {
   "cell_type": "code",
   "execution_count": 14,
   "metadata": {},
   "outputs": [
    {
     "data": {
      "text/html": [
       "<div>\n",
       "<style scoped>\n",
       "    .dataframe tbody tr th:only-of-type {\n",
       "        vertical-align: middle;\n",
       "    }\n",
       "\n",
       "    .dataframe tbody tr th {\n",
       "        vertical-align: top;\n",
       "    }\n",
       "\n",
       "    .dataframe thead th {\n",
       "        text-align: right;\n",
       "    }\n",
       "</style>\n",
       "<table border=\"1\" class=\"dataframe\">\n",
       "  <thead>\n",
       "    <tr style=\"text-align: right;\">\n",
       "      <th></th>\n",
       "      <th>program_id</th>\n",
       "      <th>path_first</th>\n",
       "      <th>visit_count</th>\n",
       "    </tr>\n",
       "  </thead>\n",
       "  <tbody>\n",
       "    <tr>\n",
       "      <th>565</th>\n",
       "      <td>2</td>\n",
       "      <td>javascript-i</td>\n",
       "      <td>110118</td>\n",
       "    </tr>\n",
       "    <tr>\n",
       "      <th>544</th>\n",
       "      <td>2</td>\n",
       "      <td>html-css</td>\n",
       "      <td>79001</td>\n",
       "    </tr>\n",
       "    <tr>\n",
       "      <th>596</th>\n",
       "      <td>2</td>\n",
       "      <td>mysql</td>\n",
       "      <td>77340</td>\n",
       "    </tr>\n",
       "    <tr>\n",
       "      <th>571</th>\n",
       "      <td>2</td>\n",
       "      <td>jquery</td>\n",
       "      <td>56787</td>\n",
       "    </tr>\n",
       "    <tr>\n",
       "      <th>643</th>\n",
       "      <td>2</td>\n",
       "      <td>spring</td>\n",
       "      <td>53149</td>\n",
       "    </tr>\n",
       "  </tbody>\n",
       "</table>\n",
       "</div>"
      ],
      "text/plain": [
       "     program_id    path_first  visit_count\n",
       "565           2  javascript-i       110118\n",
       "544           2      html-css        79001\n",
       "596           2         mysql        77340\n",
       "571           2        jquery        56787\n",
       "643           2        spring        53149"
      ]
     },
     "execution_count": 14,
     "metadata": {},
     "output_type": "execute_result"
    }
   ],
   "source": [
    "# Group by 'program_id' and 'path', then count the occurrences to identify the most visited lesson per program\n",
    "traffic_program = df_john.groupby(['program_id', 'path_first']).size().reset_index(name='visit_count')\n",
    "traffic_program= traffic_program[traffic_program['path_first'] != '/']\n",
    "traffic_program.sort_values('visit_count', ascending=False).head(5)"
   ]
  },
  {
   "cell_type": "code",
   "execution_count": 15,
   "metadata": {},
   "outputs": [
    {
     "data": {
      "text/html": [
       "<div>\n",
       "<style scoped>\n",
       "    .dataframe tbody tr th:only-of-type {\n",
       "        vertical-align: middle;\n",
       "    }\n",
       "\n",
       "    .dataframe tbody tr th {\n",
       "        vertical-align: top;\n",
       "    }\n",
       "\n",
       "    .dataframe thead th {\n",
       "        text-align: right;\n",
       "    }\n",
       "</style>\n",
       "<table border=\"1\" class=\"dataframe\">\n",
       "  <thead>\n",
       "    <tr style=\"text-align: right;\">\n",
       "      <th></th>\n",
       "      <th>program_id</th>\n",
       "      <th>path_first</th>\n",
       "      <th>visit_count</th>\n",
       "    </tr>\n",
       "  </thead>\n",
       "  <tbody>\n",
       "    <tr>\n",
       "      <th>565</th>\n",
       "      <td>2</td>\n",
       "      <td>javascript-i</td>\n",
       "      <td>110118</td>\n",
       "    </tr>\n",
       "    <tr>\n",
       "      <th>544</th>\n",
       "      <td>2</td>\n",
       "      <td>html-css</td>\n",
       "      <td>79001</td>\n",
       "    </tr>\n",
       "    <tr>\n",
       "      <th>596</th>\n",
       "      <td>2</td>\n",
       "      <td>mysql</td>\n",
       "      <td>77340</td>\n",
       "    </tr>\n",
       "    <tr>\n",
       "      <th>571</th>\n",
       "      <td>2</td>\n",
       "      <td>jquery</td>\n",
       "      <td>56787</td>\n",
       "    </tr>\n",
       "    <tr>\n",
       "      <th>643</th>\n",
       "      <td>2</td>\n",
       "      <td>spring</td>\n",
       "      <td>53149</td>\n",
       "    </tr>\n",
       "  </tbody>\n",
       "</table>\n",
       "</div>"
      ],
      "text/plain": [
       "     program_id    path_first  visit_count\n",
       "565           2  javascript-i       110118\n",
       "544           2      html-css        79001\n",
       "596           2         mysql        77340\n",
       "571           2        jquery        56787\n",
       "643           2        spring        53149"
      ]
     },
     "execution_count": 15,
     "metadata": {},
     "output_type": "execute_result"
    }
   ],
   "source": [
    "# List of common file extensions\n",
    "file_extensions = ['.txt', '.jpg', '.jpeg', '.png', '.pdf', '.doc', '.xls', '.csv', '.json', '.html', '.svg', '.java', '.zip', '.gif', '.ico']\n",
    "\n",
    "# Define a function to check if a URL contains a file extension\n",
    "def contains_file_extension(url):\n",
    "    for ext in file_extensions:\n",
    "        if ext in url:\n",
    "            return False\n",
    "    return True\n",
    "\n",
    "# Filter rows where the URL doesn't contain a file extension\n",
    "traffic_program = traffic_program[traffic_program['path_first'].apply(contains_file_extension)]\n",
    "traffic_program.sort_values('visit_count', ascending=False).head(5)"
   ]
  },
  {
   "cell_type": "code",
   "execution_count": 16,
   "metadata": {},
   "outputs": [
    {
     "data": {
      "text/html": [
       "<div>\n",
       "<style scoped>\n",
       "    .dataframe tbody tr th:only-of-type {\n",
       "        vertical-align: middle;\n",
       "    }\n",
       "\n",
       "    .dataframe tbody tr th {\n",
       "        vertical-align: top;\n",
       "    }\n",
       "\n",
       "    .dataframe thead th {\n",
       "        text-align: right;\n",
       "    }\n",
       "</style>\n",
       "<table border=\"1\" class=\"dataframe\">\n",
       "  <thead>\n",
       "    <tr style=\"text-align: right;\">\n",
       "      <th></th>\n",
       "      <th>program_id</th>\n",
       "      <th>path_first</th>\n",
       "      <th>visit_count</th>\n",
       "    </tr>\n",
       "  </thead>\n",
       "  <tbody>\n",
       "    <tr>\n",
       "      <th>49</th>\n",
       "      <td>1</td>\n",
       "      <td>content</td>\n",
       "      <td>6397</td>\n",
       "    </tr>\n",
       "    <tr>\n",
       "      <th>67</th>\n",
       "      <td>1</td>\n",
       "      <td>javascript-i</td>\n",
       "      <td>3708</td>\n",
       "    </tr>\n",
       "    <tr>\n",
       "      <th>56</th>\n",
       "      <td>1</td>\n",
       "      <td>html-css</td>\n",
       "      <td>2463</td>\n",
       "    </tr>\n",
       "    <tr>\n",
       "      <th>86</th>\n",
       "      <td>1</td>\n",
       "      <td>spring</td>\n",
       "      <td>2324</td>\n",
       "    </tr>\n",
       "    <tr>\n",
       "      <th>75</th>\n",
       "      <td>1</td>\n",
       "      <td>mysql</td>\n",
       "      <td>2067</td>\n",
       "    </tr>\n",
       "  </tbody>\n",
       "</table>\n",
       "</div>"
      ],
      "text/plain": [
       "    program_id    path_first  visit_count\n",
       "49           1       content         6397\n",
       "67           1  javascript-i         3708\n",
       "56           1      html-css         2463\n",
       "86           1        spring         2324\n",
       "75           1         mysql         2067"
      ]
     },
     "execution_count": 16,
     "metadata": {},
     "output_type": "execute_result"
    }
   ],
   "source": [
    "# Sort the DataFrame by 'program_id' and 'visit_count' to get the top 10 most visited lessons per program\n",
    "traffic_program_sorted = traffic_program.sort_values(['program_id', 'visit_count'], ascending=[True, False])\n",
    "traffic_program_full_path = traffic_program_sorted.copy()\n",
    "\n",
    "# traffic_program_sorted['path'] = traffic_program_sorted['path'].str[:15]\n",
    "traffic_program_sorted.head()"
   ]
  },
  {
   "cell_type": "code",
   "execution_count": 17,
   "metadata": {},
   "outputs": [
    {
     "ename": "NameError",
     "evalue": "name 'vis' is not defined",
     "output_type": "error",
     "traceback": [
      "\u001b[0;31m---------------------------------------------------------------------------\u001b[0m",
      "\u001b[0;31mNameError\u001b[0m                                 Traceback (most recent call last)",
      "\u001b[1;32m/Users/jongarcia/codeup-data-science/curriculum/Final_Notebook.ipynb Cell 25\u001b[0m line \u001b[0;36m1\n\u001b[1;32m     <a href='vscode-notebook-cell:/Users/jongarcia/codeup-data-science/curriculum/Final_Notebook.ipynb#Y131sZmlsZQ%3D%3D?line=14'>15</a>\u001b[0m     \u001b[39m# Create the bar plot using the top 5 most visited lessons for the current program\u001b[39;00m\n\u001b[1;32m     <a href='vscode-notebook-cell:/Users/jongarcia/codeup-data-science/curriculum/Final_Notebook.ipynb#Y131sZmlsZQ%3D%3D?line=15'>16</a>\u001b[0m     ax \u001b[39m=\u001b[39m axes[i]\n\u001b[0;32m---> <a href='vscode-notebook-cell:/Users/jongarcia/codeup-data-science/curriculum/Final_Notebook.ipynb#Y131sZmlsZQ%3D%3D?line=16'>17</a>\u001b[0m     vis\u001b[39m.\u001b[39mjohns_barsubplot(ax, x\u001b[39m=\u001b[39m\u001b[39m'\u001b[39m\u001b[39mpath\u001b[39m\u001b[39m'\u001b[39m, y\u001b[39m=\u001b[39m\u001b[39m'\u001b[39m\u001b[39mvisit_count\u001b[39m\u001b[39m'\u001b[39m, data\u001b[39m=\u001b[39mtop_5_per_program, \n\u001b[1;32m     <a href='vscode-notebook-cell:/Users/jongarcia/codeup-data-science/curriculum/Final_Notebook.ipynb#Y131sZmlsZQ%3D%3D?line=17'>18</a>\u001b[0m                      title\u001b[39m=\u001b[39m\u001b[39mf\u001b[39m\u001b[39m'\u001b[39m\u001b[39mProgram: \u001b[39m\u001b[39m{\u001b[39;00mprogram_id\u001b[39m}\u001b[39;00m\u001b[39m'\u001b[39m, xlabel\u001b[39m=\u001b[39m\u001b[39m'\u001b[39m\u001b[39m'\u001b[39m, single_color\u001b[39m=\u001b[39m\u001b[39m'\u001b[39m\u001b[39m#1f77b4\u001b[39m\u001b[39m'\u001b[39m, x_label_rotation\u001b[39m=\u001b[39m \u001b[39m35\u001b[39m)\n\u001b[1;32m     <a href='vscode-notebook-cell:/Users/jongarcia/codeup-data-science/curriculum/Final_Notebook.ipynb#Y131sZmlsZQ%3D%3D?line=19'>20</a>\u001b[0m \u001b[39m# Show the plot\u001b[39;00m\n\u001b[1;32m     <a href='vscode-notebook-cell:/Users/jongarcia/codeup-data-science/curriculum/Final_Notebook.ipynb#Y131sZmlsZQ%3D%3D?line=20'>21</a>\u001b[0m plt\u001b[39m.\u001b[39mtight_layout(rect\u001b[39m=\u001b[39m[\u001b[39m0\u001b[39m, \u001b[39m0.03\u001b[39m, \u001b[39m1\u001b[39m, \u001b[39m0.95\u001b[39m])\n",
      "\u001b[0;31mNameError\u001b[0m: name 'vis' is not defined"
     ]
    },
    {
     "data": {
      "image/png": "[encoded data removed]",
      "text/plain": [
       "<Figure size 1400x500 with 3 Axes>"
      ]
     },
     "metadata": {},
     "output_type": "display_data"
    }
   ],
   "source": [
    "# Create subplots for each program's top 5 most visited lessons using johns_barsubplot\n",
    "fig, axes = plt.subplots(1, 3, figsize=(14, 5))\n",
    "fig.suptitle('Top 5 Most Visited Lessons by Program', fontsize=14)\n",
    "\n",
    "# Flatten axes for easy iteration\n",
    "axes = axes.flatten()\n",
    "\n",
    "# Program IDs\n",
    "program_ids = [1, 2, 3]\n",
    "\n",
    "for i, program_id in enumerate(program_ids):\n",
    "    # Get the top 5 most visited lessons for the current program\n",
    "    top_5_per_program = traffic_program_sorted[traffic_program_sorted['program_id'] == program_id].head()\n",
    "    \n",
    "    # Create the bar plot using the top 5 most visited lessons for the current program\n",
    "    ax = axes[i]\n",
    "    vis.johns_barsubplot(ax, x='path', y='visit_count', data=top_5_per_program, \n",
    "                     title=f'Program: {program_id}', xlabel='', single_color='#1f77b4', x_label_rotation= 35)\n",
    "\n",
    "# Show the plot\n",
    "plt.tight_layout(rect=[0, 0.03, 1, 0.95])\n",
    "plt.show()"
   ]
  },
  {
   "cell_type": "code",
   "execution_count": 11,
   "metadata": {},
   "outputs": [
    {
     "data": {
      "text/plain": [
       "4"
      ]
     },
     "execution_count": 11,
     "metadata": {},
     "output_type": "execute_result"
    }
   ],
   "source": [
    "# Check number of unique programs\n",
    "ids = df1.program_id.unique()\n",
    "df1.program_id.nunique()"
   ]
  },
  {
   "cell_type": "markdown",
   "metadata": {},
   "source": [
    "There are 4 different programs"
   ]
  },
  {
   "cell_type": "code",
   "execution_count": 12,
   "metadata": {},
   "outputs": [],
   "source": [
    "# Create a little filter to ignore homepage and json files\n",
    "dot = df1.path.str.contains('.json')\n",
    "slash = df1.path != '/'\n",
    "n_dot = [not elem for elem in dot]"
   ]
  },
  {
   "cell_type": "code",
   "execution_count": 13,
   "metadata": {},
   "outputs": [],
   "source": [
    "clean_df = df1[n_dot & slash]  # Create clean df"
   ]
  },
  {
   "cell_type": "code",
   "execution_count": 14,
   "metadata": {},
   "outputs": [
    {
     "name": "stdout",
     "output_type": "stream",
     "text": [
      "Program id: 1\n",
      "index.html      1011\n",
      "javascript-i     736\n",
      "html-css         542\n",
      "Name: path, dtype: int64\n",
      "\n",
      "\n",
      "Program id: 2\n",
      "javascript-i    17457\n",
      "toc             17428\n",
      "java-iii        12683\n",
      "Name: path, dtype: int64\n",
      "\n",
      "\n",
      "Program id: 4\n",
      "content/html-css                               2\n",
      "content/html-css/gitbook/images/favicon.ico    1\n",
      "content/html-css/introduction.html             1\n",
      "Name: path, dtype: int64\n",
      "\n",
      "\n",
      "Program id: 3\n",
      "classification/overview                     1785\n",
      "1-fundamentals/modern-data-scientist.jpg    1655\n",
      "1-fundamentals/AI-ML-DL-timeline.jpg        1651\n",
      "Name: path, dtype: int64\n",
      "\n",
      "\n"
     ]
    }
   ],
   "source": [
    "# Loop to check most accessed page per program\n",
    "for program in ids:\n",
    "    print(f'Program id: {program}')\n",
    "    print(clean_df[clean_df.program_id == program].path.value_counts()[:3])\n",
    "    print()\n",
    "    print()"
   ]
  },
  {
   "cell_type": "markdown",
   "metadata": {},
   "source": [
    "The lesson that appears the most for each program is:\n",
    "* 1: javascript-i\n",
    "* 2: javascript-i\n",
    "* 3: content/html-css\n",
    "* 4: classification/overview"
   ]
  },
  {
   "cell_type": "markdown",
   "metadata": {
    "tags": []
   },
   "source": [
    "### 2. Is there a cohort that referred to a lesson significantly more than other cohorts seemed to gloss over?"
   ]
  },
  {
   "cell_type": "markdown",
   "metadata": {},
   "source": [
    "To check this, we will create a dataframe that details how many time each page(path) was accessed by each cohort"
   ]
  },
  {
   "cell_type": "code",
   "execution_count": 15,
   "metadata": {},
   "outputs": [],
   "source": [
    "# Create empty df and add path column\n",
    "gg = pd.DataFrame()\n",
    "gg['path'] = df1.path"
   ]
  },
  {
   "cell_type": "code",
   "execution_count": 16,
   "metadata": {},
   "outputs": [],
   "source": [
    "# Loop through every cohort name creating a column for each and returning true for if the pach access was made by that cohort\n",
    "for cohort in df1.cohort_id.unique():\n",
    "    gg[f'cohort_{cohort}'] = df1.cohort_id == cohort"
   ]
  },
  {
   "cell_type": "code",
   "execution_count": 17,
   "metadata": {},
   "outputs": [],
   "source": [
    "# Group by path\n",
    "counts = gg.groupby('path').sum()"
   ]
  },
  {
   "cell_type": "code",
   "execution_count": 18,
   "metadata": {},
   "outputs": [
    {
     "data": {
      "text/html": [
       "<div>\n",
       "<style scoped>\n",
       "    .dataframe tbody tr th:only-of-type {\n",
       "        vertical-align: middle;\n",
       "    }\n",
       "\n",
       "    .dataframe tbody tr th {\n",
       "        vertical-align: top;\n",
       "    }\n",
       "\n",
       "    .dataframe thead th {\n",
       "        text-align: right;\n",
       "    }\n",
       "</style>\n",
       "<table border=\"1\" class=\"dataframe\">\n",
       "  <thead>\n",
       "    <tr style=\"text-align: right;\">\n",
       "      <th></th>\n",
       "      <th>cohort_8</th>\n",
       "      <th>cohort_22</th>\n",
       "      <th>cohort_21</th>\n",
       "      <th>cohort_1</th>\n",
       "      <th>cohort_16</th>\n",
       "      <th>cohort_18</th>\n",
       "      <th>cohort_19</th>\n",
       "      <th>cohort_13</th>\n",
       "      <th>cohort_14</th>\n",
       "      <th>cohort_15</th>\n",
       "      <th>...</th>\n",
       "      <th>cohort_59</th>\n",
       "      <th>cohort_61</th>\n",
       "      <th>cohort_62</th>\n",
       "      <th>cohort_132</th>\n",
       "      <th>cohort_134</th>\n",
       "      <th>cohort_133</th>\n",
       "      <th>cohort_135</th>\n",
       "      <th>cohort_138</th>\n",
       "      <th>cohort_137</th>\n",
       "      <th>cohort_139</th>\n",
       "    </tr>\n",
       "    <tr>\n",
       "      <th>path</th>\n",
       "      <th></th>\n",
       "      <th></th>\n",
       "      <th></th>\n",
       "      <th></th>\n",
       "      <th></th>\n",
       "      <th></th>\n",
       "      <th></th>\n",
       "      <th></th>\n",
       "      <th></th>\n",
       "      <th></th>\n",
       "      <th></th>\n",
       "      <th></th>\n",
       "      <th></th>\n",
       "      <th></th>\n",
       "      <th></th>\n",
       "      <th></th>\n",
       "      <th></th>\n",
       "      <th></th>\n",
       "      <th></th>\n",
       "      <th></th>\n",
       "      <th></th>\n",
       "    </tr>\n",
       "  </thead>\n",
       "  <tbody>\n",
       "    <tr>\n",
       "      <th>%20https://github.com/RaulCPena</th>\n",
       "      <td>0</td>\n",
       "      <td>0</td>\n",
       "      <td>0</td>\n",
       "      <td>0</td>\n",
       "      <td>0</td>\n",
       "      <td>0</td>\n",
       "      <td>0</td>\n",
       "      <td>0</td>\n",
       "      <td>0</td>\n",
       "      <td>0</td>\n",
       "      <td>...</td>\n",
       "      <td>0</td>\n",
       "      <td>0</td>\n",
       "      <td>0</td>\n",
       "      <td>0</td>\n",
       "      <td>0</td>\n",
       "      <td>0</td>\n",
       "      <td>0</td>\n",
       "      <td>0</td>\n",
       "      <td>0</td>\n",
       "      <td>0</td>\n",
       "    </tr>\n",
       "    <tr>\n",
       "      <th>'</th>\n",
       "      <td>0</td>\n",
       "      <td>0</td>\n",
       "      <td>0</td>\n",
       "      <td>0</td>\n",
       "      <td>0</td>\n",
       "      <td>0</td>\n",
       "      <td>0</td>\n",
       "      <td>0</td>\n",
       "      <td>0</td>\n",
       "      <td>0</td>\n",
       "      <td>...</td>\n",
       "      <td>0</td>\n",
       "      <td>0</td>\n",
       "      <td>0</td>\n",
       "      <td>0</td>\n",
       "      <td>0</td>\n",
       "      <td>0</td>\n",
       "      <td>0</td>\n",
       "      <td>0</td>\n",
       "      <td>0</td>\n",
       "      <td>0</td>\n",
       "    </tr>\n",
       "    <tr>\n",
       "      <th>,%20https://github.com/RaulCPena</th>\n",
       "      <td>0</td>\n",
       "      <td>0</td>\n",
       "      <td>0</td>\n",
       "      <td>0</td>\n",
       "      <td>0</td>\n",
       "      <td>0</td>\n",
       "      <td>0</td>\n",
       "      <td>0</td>\n",
       "      <td>0</td>\n",
       "      <td>0</td>\n",
       "      <td>...</td>\n",
       "      <td>0</td>\n",
       "      <td>0</td>\n",
       "      <td>0</td>\n",
       "      <td>0</td>\n",
       "      <td>0</td>\n",
       "      <td>0</td>\n",
       "      <td>0</td>\n",
       "      <td>0</td>\n",
       "      <td>0</td>\n",
       "      <td>0</td>\n",
       "    </tr>\n",
       "  </tbody>\n",
       "</table>\n",
       "<p>3 rows × 47 columns</p>\n",
       "</div>"
      ],
      "text/plain": [
       "                                  cohort_8  cohort_22  cohort_21  cohort_1  \\\n",
       "path                                                                         \n",
       "%20https://github.com/RaulCPena          0          0          0         0   \n",
       "'                                        0          0          0         0   \n",
       ",%20https://github.com/RaulCPena         0          0          0         0   \n",
       "\n",
       "                                  cohort_16  cohort_18  cohort_19  cohort_13  \\\n",
       "path                                                                           \n",
       "%20https://github.com/RaulCPena           0          0          0          0   \n",
       "'                                         0          0          0          0   \n",
       ",%20https://github.com/RaulCPena          0          0          0          0   \n",
       "\n",
       "                                  cohort_14  cohort_15  ...  cohort_59  \\\n",
       "path                                                    ...              \n",
       "%20https://github.com/RaulCPena           0          0  ...          0   \n",
       "'                                         0          0  ...          0   \n",
       ",%20https://github.com/RaulCPena          0          0  ...          0   \n",
       "\n",
       "                                  cohort_61  cohort_62  cohort_132  \\\n",
       "path                                                                 \n",
       "%20https://github.com/RaulCPena           0          0           0   \n",
       "'                                         0          0           0   \n",
       ",%20https://github.com/RaulCPena          0          0           0   \n",
       "\n",
       "                                  cohort_134  cohort_133  cohort_135  \\\n",
       "path                                                                   \n",
       "%20https://github.com/RaulCPena            0           0           0   \n",
       "'                                          0           0           0   \n",
       ",%20https://github.com/RaulCPena           0           0           0   \n",
       "\n",
       "                                  cohort_138  cohort_137  cohort_139  \n",
       "path                                                                  \n",
       "%20https://github.com/RaulCPena            0           0           0  \n",
       "'                                          0           0           0  \n",
       ",%20https://github.com/RaulCPena           0           0           0  \n",
       "\n",
       "[3 rows x 47 columns]"
      ]
     },
     "execution_count": 18,
     "metadata": {},
     "output_type": "execute_result"
    }
   ],
   "source": [
    "counts.head(3)"
   ]
  },
  {
   "cell_type": "code",
   "execution_count": 19,
   "metadata": {},
   "outputs": [],
   "source": [
    "# Create function to access top counts for each page separated by cohort\n",
    "def access_counts(page,top=None):\n",
    "    print(counts.loc[page].sort_values(ascending=False)[:top])"
   ]
  },
  {
   "cell_type": "code",
   "execution_count": 20,
   "metadata": {},
   "outputs": [
    {
     "name": "stdout",
     "output_type": "stream",
     "text": [
      "cohort_28     1817\n",
      "cohort_33     1003\n",
      "cohort_62      926\n",
      "cohort_58      910\n",
      "cohort_135     907\n",
      "Name: javascript-i, dtype: int64\n"
     ]
    }
   ],
   "source": [
    "access_counts('javascript-i', 5)  # Top 5 cohorts accessing 'javascript-i'"
   ]
  },
  {
   "cell_type": "code",
   "execution_count": 21,
   "metadata": {},
   "outputs": [
    {
     "name": "stdout",
     "output_type": "stream",
     "text": [
      "cohort_59     1109\n",
      "cohort_28      851\n",
      "cohort_133     445\n",
      "cohort_55      136\n",
      "cohort_137      60\n",
      "Name: classification/overview, dtype: int64\n"
     ]
    }
   ],
   "source": [
    "access_counts('classification/overview', 5)  # Top 5 cohorts accessing 'classification/overview'"
   ]
  },
  {
   "cell_type": "code",
   "execution_count": 22,
   "metadata": {},
   "outputs": [
    {
     "name": "stdout",
     "output_type": "stream",
     "text": [
      "cohort_62    1866\n",
      "cohort_29    1465\n",
      "cohort_53    1293\n",
      "cohort_58    1022\n",
      "cohort_25     991\n",
      "Name: toc, dtype: int64\n"
     ]
    }
   ],
   "source": [
    "access_counts('toc', 5)  # Top 5 cohorts accessing 'toc'"
   ]
  },
  {
   "cell_type": "markdown",
   "metadata": {},
   "source": [
    "It does seem that each cohort varies in number of accesses. There is nothing too out of the ordinary for any specific cohort. "
   ]
  },
  {
   "cell_type": "markdown",
   "metadata": {
    "tags": []
   },
   "source": [
    "### 3. Are there students who, when active, hardly access the curriculum? If so, what information do you have about these students?"
   ]
  },
  {
   "cell_type": "code",
   "execution_count": 23,
   "metadata": {},
   "outputs": [
    {
     "data": {
      "text/plain": [
       "911"
      ]
     },
     "execution_count": 23,
     "metadata": {},
     "output_type": "execute_result"
    }
   ],
   "source": [
    "df1.user_id.nunique()  # Identify number of unique users"
   ]
  },
  {
   "cell_type": "markdown",
   "metadata": {},
   "source": [
    "There are 911 unique users"
   ]
  },
  {
   "cell_type": "code",
   "execution_count": 24,
   "metadata": {},
   "outputs": [],
   "source": [
    "# Use groupby to count how many times each user_id accessed the curriculum\n",
    "# Use 'Active' in activity column to only see students who are active\n",
    "least_active = df1[df1.activity == 'Active'].groupby('user_id').path.count().sort_values()"
   ]
  },
  {
   "cell_type": "code",
   "execution_count": 25,
   "metadata": {},
   "outputs": [
    {
     "data": {
      "text/html": [
       "<div>\n",
       "<style scoped>\n",
       "    .dataframe tbody tr th:only-of-type {\n",
       "        vertical-align: middle;\n",
       "    }\n",
       "\n",
       "    .dataframe tbody tr th {\n",
       "        vertical-align: top;\n",
       "    }\n",
       "\n",
       "    .dataframe thead th {\n",
       "        text-align: right;\n",
       "    }\n",
       "</style>\n",
       "<table border=\"1\" class=\"dataframe\">\n",
       "  <thead>\n",
       "    <tr style=\"text-align: right;\">\n",
       "      <th></th>\n",
       "      <th>date</th>\n",
       "      <th>path</th>\n",
       "      <th>user_id</th>\n",
       "      <th>cohort_id</th>\n",
       "      <th>ip</th>\n",
       "      <th>name</th>\n",
       "      <th>slack</th>\n",
       "      <th>start_date</th>\n",
       "      <th>end_date</th>\n",
       "      <th>program_id</th>\n",
       "      <th>activity</th>\n",
       "    </tr>\n",
       "  </thead>\n",
       "  <tbody>\n",
       "    <tr>\n",
       "      <th>847371</th>\n",
       "      <td>2021-03-15 16:59:56</td>\n",
       "      <td>/</td>\n",
       "      <td>918</td>\n",
       "      <td>138</td>\n",
       "      <td>71.221.46.112</td>\n",
       "      <td>Neptune</td>\n",
       "      <td>#neptune</td>\n",
       "      <td>2021-03-15</td>\n",
       "      <td>2021-09-03</td>\n",
       "      <td>2</td>\n",
       "      <td>Active</td>\n",
       "    </tr>\n",
       "  </tbody>\n",
       "</table>\n",
       "</div>"
      ],
      "text/plain": [
       "                      date path  user_id  cohort_id             ip     name  \\\n",
       "847371 2021-03-15 16:59:56    /      918        138  71.221.46.112  Neptune   \n",
       "\n",
       "           slack start_date   end_date  program_id activity  \n",
       "847371  #neptune 2021-03-15 2021-09-03           2   Active  "
      ]
     },
     "execution_count": 25,
     "metadata": {},
     "output_type": "execute_result"
    }
   ],
   "source": [
    "df1[df1.user_id == least_active.index[0]]"
   ]
  },
  {
   "cell_type": "markdown",
   "metadata": {},
   "source": [
    "We can access any information we want from each student user_id. For example ^ one of the least active student accessed the curriculum one singular time and he/she only viewed the home page. He/she was part of cohort 138  and program 2"
   ]
  },
  {
   "cell_type": "markdown",
   "metadata": {},
   "source": [
    "### 4. Is there any suspicious activity, such as users/machines/etc accessing the curriculum who shouldn’t be? Does it appear that any web-scraping is happening? Are there any suspicious IP addresses?"
   ]
  },
  {
   "cell_type": "code",
   "execution_count": 26,
   "metadata": {},
   "outputs": [],
   "source": [
    "# Fill all nulls in cohot id with 0\n",
    "df.cohort_id = df.cohort_id.fillna(0)"
   ]
  },
  {
   "cell_type": "code",
   "execution_count": 27,
   "metadata": {},
   "outputs": [
    {
     "data": {
      "text/plain": [
       "97.105.19.58       284579\n",
       "97.105.19.61        61661\n",
       "192.171.117.210      9515\n",
       "71.150.217.33        6791\n",
       "76.185.145.231       4754\n",
       "12.106.208.194       4360\n",
       "67.11.50.23          4181\n",
       "70.112.179.142       4117\n",
       "70.121.183.95        3843\n",
       "172.124.67.93        3511\n",
       "Name: ip, dtype: int64"
      ]
     },
     "execution_count": 27,
     "metadata": {},
     "output_type": "execute_result"
    }
   ],
   "source": [
    "df.ip.value_counts()[:10]  # Check top used ips"
   ]
  },
  {
   "cell_type": "code",
   "execution_count": 28,
   "metadata": {},
   "outputs": [],
   "source": [
    "# Create df with only the missing cohort ids\n",
    "unk = df[df.cohort_id == 0]\n",
    "unk.index = unk.date\n",
    "unk_avg = unk.resample('w').count()"
   ]
  },
  {
   "cell_type": "markdown",
   "metadata": {
    "tags": []
   },
   "source": [
    "There are two ips accessing the curriculum an extraordinary amount of times"
   ]
  },
  {
   "cell_type": "code",
   "execution_count": 29,
   "metadata": {},
   "outputs": [],
   "source": [
    "# Create avg group that excludes the top 2 ips\n",
    "avg = df.copy()\n",
    "avg = avg[ (avg.ip != '97.105.19.58') & (avg.ip != '97.105.19.61') ]\n",
    "avg.index = avg.date\n",
    "week_avg = avg.resample('w').count()"
   ]
  },
  {
   "cell_type": "code",
   "execution_count": 30,
   "metadata": {},
   "outputs": [],
   "source": [
    "# Create two df of the suspicious ips\n",
    "sus1 = df1[(df1.ip == '97.105.19.58')]\n",
    "sus2 = df1[(df1.ip == '97.105.19.61')]\n",
    "\n",
    "sus1.index = sus1.date\n",
    "sus2.index = sus2.date\n",
    "\n",
    "week_sus1 = sus1.resample('w').count()\n",
    "week_sus2 = sus2.resample('w').count()"
   ]
  },
  {
   "cell_type": "code",
   "execution_count": 31,
   "metadata": {},
   "outputs": [
    {
     "data": {
      "image/png": "[encoded data removed]",
      "text/plain": [
       "<Figure size 1200x800 with 1 Axes>"
      ]
     },
     "metadata": {},
     "output_type": "display_data"
    }
   ],
   "source": [
    "plt.figure(figsize=(12,8))\n",
    "sns.lineplot(week_sus1.path, label='Suspicious ip 1')\n",
    "sns.lineplot(week_sus2.path, label='Suspicious ip 2')\n",
    "sns.lineplot(week_avg.path, label='Avg')\n",
    "sns.lineplot(unk_avg.path, label='Unknown cohort')\n",
    "plt.legend()\n",
    "plt.ylabel('Accesses per week')\n",
    "plt.title('Number of weekly accesses over time')\n",
    "plt.show()"
   ]
  },
  {
   "cell_type": "code",
   "execution_count": 32,
   "metadata": {},
   "outputs": [
    {
     "data": {
      "text/plain": [
       "97.105.19.58     15931\n",
       "70.117.16.60      1903\n",
       "67.11.117.74      1729\n",
       "70.94.165.107     1715\n",
       "23.116.170.48     1616\n",
       "Name: ip, dtype: int64"
      ]
     },
     "execution_count": 32,
     "metadata": {},
     "output_type": "execute_result"
    }
   ],
   "source": [
    "unk.ip.value_counts()[:5]"
   ]
  },
  {
   "cell_type": "code",
   "execution_count": 33,
   "metadata": {},
   "outputs": [
    {
     "data": {
      "text/plain": [
       "/                           4459\n",
       "search/search_index.json    1985\n",
       "javascript-i                 780\n",
       "toc                          706\n",
       "spring                       641\n",
       "Name: path, dtype: int64"
      ]
     },
     "execution_count": 33,
     "metadata": {},
     "output_type": "execute_result"
    }
   ],
   "source": [
    "unk.path.value_counts()[:5]"
   ]
  },
  {
   "cell_type": "code",
   "execution_count": 34,
   "metadata": {},
   "outputs": [
    {
     "data": {
      "text/plain": [
       "78"
      ]
     },
     "execution_count": 34,
     "metadata": {},
     "output_type": "execute_result"
    }
   ],
   "source": [
    "unk.user_id.nunique()"
   ]
  },
  {
   "cell_type": "code",
   "execution_count": 35,
   "metadata": {},
   "outputs": [
    {
     "data": {
      "text/plain": [
       "354    2965\n",
       "736    2358\n",
       "363    2248\n",
       "716    2136\n",
       "368    2085\n",
       "Name: user_id, dtype: int64"
      ]
     },
     "execution_count": 35,
     "metadata": {},
     "output_type": "execute_result"
    }
   ],
   "source": [
    "unk.user_id.value_counts()[:5]"
   ]
  },
  {
   "cell_type": "markdown",
   "metadata": {},
   "source": [
    "There does not seem to be anything abnormal at first glance. There are two ips with a huge number of accesses but these are likely the CodeUp wifi that is shared by all students in class. These ips disappear when covid strikes and everyone has to do remote learning on their own homes and the avg of other ips rises. The unknown cohorts dont have anything alarming at first sight. It seems that there was a cohort at some point that their cohort id was not registered. This happens twice."
   ]
  },
  {
   "cell_type": "markdown",
   "metadata": {},
   "source": [
    "### 5. At some point in 2019, the ability for students and alumni to access both curricula (web dev to ds, ds to web dev) should have been shut off. Do you see any evidence of that happening? Did it happen before?"
   ]
  },
  {
   "cell_type": "code",
   "execution_count": null,
   "metadata": {},
   "outputs": [],
   "source": []
  },
  {
   "cell_type": "markdown",
   "metadata": {},
   "source": [
    "### 6. What topics are grads continuing to reference after graduation and into their jobs (for each program)?"
   ]
  },
  {
   "cell_type": "code",
   "execution_count": 36,
   "metadata": {},
   "outputs": [
    {
     "data": {
      "text/plain": [
       "0"
      ]
     },
     "execution_count": 36,
     "metadata": {},
     "output_type": "execute_result"
    }
   ],
   "source": [
    "# Check if all access dates are after start dates\n",
    "(df1.date < df1.start_date).sum()"
   ]
  },
  {
   "cell_type": "code",
   "execution_count": 37,
   "metadata": {},
   "outputs": [],
   "source": [
    "# Filter by ativity, to see students that accessed the curriculum after graduating\n",
    "grads = df1[df1.activity == 'Inactive']"
   ]
  },
  {
   "cell_type": "code",
   "execution_count": 38,
   "metadata": {},
   "outputs": [],
   "source": [
    "# Filter away home page and .json files\n",
    "dot = grads.path.str.contains('.json')\n",
    "slash = grads.path != '/'\n",
    "n_dot = [not elem for elem in dot]\n",
    "grads = grads[n_dot & slash]"
   ]
  },
  {
   "cell_type": "code",
   "execution_count": 39,
   "metadata": {},
   "outputs": [
    {
     "name": "stdout",
     "output_type": "stream",
     "text": [
      "Program id: 1\n",
      "index.html      1011\n",
      "javascript-i     736\n",
      "html-css         542\n",
      "Name: path, dtype: int64\n",
      "\n",
      "\n",
      "Program id: 2\n",
      "javascript-i    4233\n",
      "spring          3771\n",
      "html-css        3145\n",
      "Name: path, dtype: int64\n",
      "\n",
      "\n",
      "Program id: 4\n",
      "content/html-css                               2\n",
      "content/html-css/gitbook/images/favicon.ico    1\n",
      "content/html-css/introduction.html             1\n",
      "Name: path, dtype: int64\n",
      "\n",
      "\n",
      "Program id: 3\n",
      "sql/mysql-overview                          275\n",
      "classification/overview                     267\n",
      "classification/scale_features_or_not.svg    220\n",
      "Name: path, dtype: int64\n",
      "\n",
      "\n"
     ]
    }
   ],
   "source": [
    "# Loop through most accessed lessons\n",
    "for program in ids:\n",
    "    print(f'Program id: {program}')\n",
    "    print(grads[grads.program_id == program].path.value_counts()[:3])\n",
    "    print()\n",
    "    print()"
   ]
  },
  {
   "cell_type": "markdown",
   "metadata": {},
   "source": [
    "Some of the most accessed lesson by students post graduation are:\n",
    "* javascript-i\n",
    "* spring\n",
    "* content/html-css\n",
    "* sql/mysql-overview"
   ]
  },
  {
   "cell_type": "markdown",
   "metadata": {},
   "source": [
    "### 7. Which lessons are least accessed?"
   ]
  },
  {
   "cell_type": "code",
   "execution_count": 40,
   "metadata": {},
   "outputs": [
    {
     "name": "stdout",
     "output_type": "stream",
     "text": [
      "Program id: 1\n",
      "ajax-api-request.html                             1\n",
      "2.00.05_Charts_PivotTables_Sparklines             1\n",
      "2.00.02_Navigating_Excel                          1\n",
      "student/create                                    1\n",
      "content/examples/constructors-destructors.html    1\n",
      "student                                           1\n",
      "html-css/media-queries                            1\n",
      "php                                               1\n",
      "mysql/jdbc-statements                             1\n",
      "mysql/intro-jdbc                                  1\n",
      "Name: path, dtype: int64\n",
      "\n",
      "\n",
      "Program id: 2\n",
      "appendix/professional-development/post-interview-review-form    1\n",
      "cli-03-file-paths                                               1\n",
      "cli-07-more-topics                                              1\n",
      "spring/services                                                 1\n",
      "spring/security                                                 1\n",
      "8-timeseries/1-overview                                         1\n",
      "8-timeseries/2-intro-to-timeseries                              1\n",
      "8-timeseries/3-acquire                                          1\n",
      "8-timeseries/4-prep                                             1\n",
      "8-timeseries/6.1-parametric-modeling                            1\n",
      "Name: path, dtype: int64\n",
      "\n",
      "\n",
      "Program id: 4\n",
      "content/html-css/gitbook/images/favicon.ico    1\n",
      "content/html-css/introduction.html             1\n",
      "content/html-css                               2\n",
      "Name: path, dtype: int64\n",
      "\n",
      "\n",
      "Program id: 3\n",
      "2-storytelling/1-overview/www.qlik.com    1\n",
      "database-design                           1\n",
      "stats-assessment                          1\n",
      "curie-statistics-assessment               1\n",
      "9-timeseries/6.1-parametric-modeling      1\n",
      "understand                                1\n",
      "4.2-compare-means                         1\n",
      "python/introduction-to-python.md          1\n",
      "creating-charts                           1\n",
      "storytelling/creating-custom-fields.md    1\n",
      "Name: path, dtype: int64\n",
      "\n",
      "\n"
     ]
    }
   ],
   "source": [
    "for program in ids:\n",
    "    print(f'Program id: {program}')\n",
    "    print(clean_df[clean_df.program_id == program].path.value_counts(ascending=True)[:10])\n",
    "    print()\n",
    "    print()"
   ]
  },
  {
   "cell_type": "markdown",
   "metadata": {},
   "source": [
    "### 8. Anything else I should be aware of?"
   ]
  }
 ],
 "metadata": {
  "kernelspec": {
   "display_name": "Python 3 (ipykernel)",
   "language": "python",
   "name": "python3"
  },
  "language_info": {
   "codemirror_mode": {
    "name": "ipython",
    "version": 3
   },
   "file_extension": ".py",
   "mimetype": "text/x-python",
   "name": "python",
   "nbconvert_exporter": "python",
   "pygments_lexer": "ipython3",
   "version": "3.10.12"
  }
 },
 "nbformat": 4,
 "nbformat_minor": 4
}
